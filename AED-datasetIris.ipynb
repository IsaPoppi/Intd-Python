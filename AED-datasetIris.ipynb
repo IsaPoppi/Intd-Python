{
 "cells": [
  {
   "cell_type": "markdown",
   "metadata": {},
   "source": [
    "Manipulação do DataFrame Iris"
   ]
  },
  {
   "cell_type": "code",
   "execution_count": 1,
   "metadata": {
    "executionInfo": {
     "elapsed": 993,
     "status": "ok",
     "timestamp": 1687306678304,
     "user": {
      "displayName": "Isadora Almeida Poppi Durante",
      "userId": "00823796383294443252"
     },
     "user_tz": 180
    },
    "id": "O6yCOT5gJ3Lf"
   },
   "outputs": [],
   "source": [
    "# importando as bibliotecas necessárias para resolver o problema\n",
    "import sklearn as sk\n",
    "import numpy as np\n",
    "import pandas as pd"
   ]
  },
  {
   "cell_type": "code",
   "execution_count": 2,
   "metadata": {
    "executionInfo": {
     "elapsed": 105,
     "status": "ok",
     "timestamp": 1687306678306,
     "user": {
      "displayName": "Isadora Almeida Poppi Durante",
      "userId": "00823796383294443252"
     },
     "user_tz": 180
    },
    "id": "YtmV5YqxKFN9"
   },
   "outputs": [],
   "source": [
    "# importantado os recursos de informações que serão utilizaos\n",
    "from sklearn import datasets"
   ]
  },
  {
   "cell_type": "code",
   "execution_count": 3,
   "metadata": {
    "colab": {
     "base_uri": "https://localhost:8080/"
    },
    "executionInfo": {
     "elapsed": 104,
     "status": "ok",
     "timestamp": 1687306678307,
     "user": {
      "displayName": "Isadora Almeida Poppi Durante",
      "userId": "00823796383294443252"
     },
     "user_tz": 180
    },
    "id": "gF8bRO38KPF_",
    "outputId": "b1fa0db7-84b5-4ab1-b82b-a70b24338bae"
   },
   "outputs": [
    {
     "data": {
      "text/plain": [
       "{'data': array([[5.1, 3.5, 1.4, 0.2],\n",
       "        [4.9, 3. , 1.4, 0.2],\n",
       "        [4.7, 3.2, 1.3, 0.2],\n",
       "        [4.6, 3.1, 1.5, 0.2],\n",
       "        [5. , 3.6, 1.4, 0.2],\n",
       "        [5.4, 3.9, 1.7, 0.4],\n",
       "        [4.6, 3.4, 1.4, 0.3],\n",
       "        [5. , 3.4, 1.5, 0.2],\n",
       "        [4.4, 2.9, 1.4, 0.2],\n",
       "        [4.9, 3.1, 1.5, 0.1],\n",
       "        [5.4, 3.7, 1.5, 0.2],\n",
       "        [4.8, 3.4, 1.6, 0.2],\n",
       "        [4.8, 3. , 1.4, 0.1],\n",
       "        [4.3, 3. , 1.1, 0.1],\n",
       "        [5.8, 4. , 1.2, 0.2],\n",
       "        [5.7, 4.4, 1.5, 0.4],\n",
       "        [5.4, 3.9, 1.3, 0.4],\n",
       "        [5.1, 3.5, 1.4, 0.3],\n",
       "        [5.7, 3.8, 1.7, 0.3],\n",
       "        [5.1, 3.8, 1.5, 0.3],\n",
       "        [5.4, 3.4, 1.7, 0.2],\n",
       "        [5.1, 3.7, 1.5, 0.4],\n",
       "        [4.6, 3.6, 1. , 0.2],\n",
       "        [5.1, 3.3, 1.7, 0.5],\n",
       "        [4.8, 3.4, 1.9, 0.2],\n",
       "        [5. , 3. , 1.6, 0.2],\n",
       "        [5. , 3.4, 1.6, 0.4],\n",
       "        [5.2, 3.5, 1.5, 0.2],\n",
       "        [5.2, 3.4, 1.4, 0.2],\n",
       "        [4.7, 3.2, 1.6, 0.2],\n",
       "        [4.8, 3.1, 1.6, 0.2],\n",
       "        [5.4, 3.4, 1.5, 0.4],\n",
       "        [5.2, 4.1, 1.5, 0.1],\n",
       "        [5.5, 4.2, 1.4, 0.2],\n",
       "        [4.9, 3.1, 1.5, 0.2],\n",
       "        [5. , 3.2, 1.2, 0.2],\n",
       "        [5.5, 3.5, 1.3, 0.2],\n",
       "        [4.9, 3.6, 1.4, 0.1],\n",
       "        [4.4, 3. , 1.3, 0.2],\n",
       "        [5.1, 3.4, 1.5, 0.2],\n",
       "        [5. , 3.5, 1.3, 0.3],\n",
       "        [4.5, 2.3, 1.3, 0.3],\n",
       "        [4.4, 3.2, 1.3, 0.2],\n",
       "        [5. , 3.5, 1.6, 0.6],\n",
       "        [5.1, 3.8, 1.9, 0.4],\n",
       "        [4.8, 3. , 1.4, 0.3],\n",
       "        [5.1, 3.8, 1.6, 0.2],\n",
       "        [4.6, 3.2, 1.4, 0.2],\n",
       "        [5.3, 3.7, 1.5, 0.2],\n",
       "        [5. , 3.3, 1.4, 0.2],\n",
       "        [7. , 3.2, 4.7, 1.4],\n",
       "        [6.4, 3.2, 4.5, 1.5],\n",
       "        [6.9, 3.1, 4.9, 1.5],\n",
       "        [5.5, 2.3, 4. , 1.3],\n",
       "        [6.5, 2.8, 4.6, 1.5],\n",
       "        [5.7, 2.8, 4.5, 1.3],\n",
       "        [6.3, 3.3, 4.7, 1.6],\n",
       "        [4.9, 2.4, 3.3, 1. ],\n",
       "        [6.6, 2.9, 4.6, 1.3],\n",
       "        [5.2, 2.7, 3.9, 1.4],\n",
       "        [5. , 2. , 3.5, 1. ],\n",
       "        [5.9, 3. , 4.2, 1.5],\n",
       "        [6. , 2.2, 4. , 1. ],\n",
       "        [6.1, 2.9, 4.7, 1.4],\n",
       "        [5.6, 2.9, 3.6, 1.3],\n",
       "        [6.7, 3.1, 4.4, 1.4],\n",
       "        [5.6, 3. , 4.5, 1.5],\n",
       "        [5.8, 2.7, 4.1, 1. ],\n",
       "        [6.2, 2.2, 4.5, 1.5],\n",
       "        [5.6, 2.5, 3.9, 1.1],\n",
       "        [5.9, 3.2, 4.8, 1.8],\n",
       "        [6.1, 2.8, 4. , 1.3],\n",
       "        [6.3, 2.5, 4.9, 1.5],\n",
       "        [6.1, 2.8, 4.7, 1.2],\n",
       "        [6.4, 2.9, 4.3, 1.3],\n",
       "        [6.6, 3. , 4.4, 1.4],\n",
       "        [6.8, 2.8, 4.8, 1.4],\n",
       "        [6.7, 3. , 5. , 1.7],\n",
       "        [6. , 2.9, 4.5, 1.5],\n",
       "        [5.7, 2.6, 3.5, 1. ],\n",
       "        [5.5, 2.4, 3.8, 1.1],\n",
       "        [5.5, 2.4, 3.7, 1. ],\n",
       "        [5.8, 2.7, 3.9, 1.2],\n",
       "        [6. , 2.7, 5.1, 1.6],\n",
       "        [5.4, 3. , 4.5, 1.5],\n",
       "        [6. , 3.4, 4.5, 1.6],\n",
       "        [6.7, 3.1, 4.7, 1.5],\n",
       "        [6.3, 2.3, 4.4, 1.3],\n",
       "        [5.6, 3. , 4.1, 1.3],\n",
       "        [5.5, 2.5, 4. , 1.3],\n",
       "        [5.5, 2.6, 4.4, 1.2],\n",
       "        [6.1, 3. , 4.6, 1.4],\n",
       "        [5.8, 2.6, 4. , 1.2],\n",
       "        [5. , 2.3, 3.3, 1. ],\n",
       "        [5.6, 2.7, 4.2, 1.3],\n",
       "        [5.7, 3. , 4.2, 1.2],\n",
       "        [5.7, 2.9, 4.2, 1.3],\n",
       "        [6.2, 2.9, 4.3, 1.3],\n",
       "        [5.1, 2.5, 3. , 1.1],\n",
       "        [5.7, 2.8, 4.1, 1.3],\n",
       "        [6.3, 3.3, 6. , 2.5],\n",
       "        [5.8, 2.7, 5.1, 1.9],\n",
       "        [7.1, 3. , 5.9, 2.1],\n",
       "        [6.3, 2.9, 5.6, 1.8],\n",
       "        [6.5, 3. , 5.8, 2.2],\n",
       "        [7.6, 3. , 6.6, 2.1],\n",
       "        [4.9, 2.5, 4.5, 1.7],\n",
       "        [7.3, 2.9, 6.3, 1.8],\n",
       "        [6.7, 2.5, 5.8, 1.8],\n",
       "        [7.2, 3.6, 6.1, 2.5],\n",
       "        [6.5, 3.2, 5.1, 2. ],\n",
       "        [6.4, 2.7, 5.3, 1.9],\n",
       "        [6.8, 3. , 5.5, 2.1],\n",
       "        [5.7, 2.5, 5. , 2. ],\n",
       "        [5.8, 2.8, 5.1, 2.4],\n",
       "        [6.4, 3.2, 5.3, 2.3],\n",
       "        [6.5, 3. , 5.5, 1.8],\n",
       "        [7.7, 3.8, 6.7, 2.2],\n",
       "        [7.7, 2.6, 6.9, 2.3],\n",
       "        [6. , 2.2, 5. , 1.5],\n",
       "        [6.9, 3.2, 5.7, 2.3],\n",
       "        [5.6, 2.8, 4.9, 2. ],\n",
       "        [7.7, 2.8, 6.7, 2. ],\n",
       "        [6.3, 2.7, 4.9, 1.8],\n",
       "        [6.7, 3.3, 5.7, 2.1],\n",
       "        [7.2, 3.2, 6. , 1.8],\n",
       "        [6.2, 2.8, 4.8, 1.8],\n",
       "        [6.1, 3. , 4.9, 1.8],\n",
       "        [6.4, 2.8, 5.6, 2.1],\n",
       "        [7.2, 3. , 5.8, 1.6],\n",
       "        [7.4, 2.8, 6.1, 1.9],\n",
       "        [7.9, 3.8, 6.4, 2. ],\n",
       "        [6.4, 2.8, 5.6, 2.2],\n",
       "        [6.3, 2.8, 5.1, 1.5],\n",
       "        [6.1, 2.6, 5.6, 1.4],\n",
       "        [7.7, 3. , 6.1, 2.3],\n",
       "        [6.3, 3.4, 5.6, 2.4],\n",
       "        [6.4, 3.1, 5.5, 1.8],\n",
       "        [6. , 3. , 4.8, 1.8],\n",
       "        [6.9, 3.1, 5.4, 2.1],\n",
       "        [6.7, 3.1, 5.6, 2.4],\n",
       "        [6.9, 3.1, 5.1, 2.3],\n",
       "        [5.8, 2.7, 5.1, 1.9],\n",
       "        [6.8, 3.2, 5.9, 2.3],\n",
       "        [6.7, 3.3, 5.7, 2.5],\n",
       "        [6.7, 3. , 5.2, 2.3],\n",
       "        [6.3, 2.5, 5. , 1.9],\n",
       "        [6.5, 3. , 5.2, 2. ],\n",
       "        [6.2, 3.4, 5.4, 2.3],\n",
       "        [5.9, 3. , 5.1, 1.8]]),\n",
       " 'target': array([0, 0, 0, 0, 0, 0, 0, 0, 0, 0, 0, 0, 0, 0, 0, 0, 0, 0, 0, 0, 0, 0,\n",
       "        0, 0, 0, 0, 0, 0, 0, 0, 0, 0, 0, 0, 0, 0, 0, 0, 0, 0, 0, 0, 0, 0,\n",
       "        0, 0, 0, 0, 0, 0, 1, 1, 1, 1, 1, 1, 1, 1, 1, 1, 1, 1, 1, 1, 1, 1,\n",
       "        1, 1, 1, 1, 1, 1, 1, 1, 1, 1, 1, 1, 1, 1, 1, 1, 1, 1, 1, 1, 1, 1,\n",
       "        1, 1, 1, 1, 1, 1, 1, 1, 1, 1, 1, 1, 2, 2, 2, 2, 2, 2, 2, 2, 2, 2,\n",
       "        2, 2, 2, 2, 2, 2, 2, 2, 2, 2, 2, 2, 2, 2, 2, 2, 2, 2, 2, 2, 2, 2,\n",
       "        2, 2, 2, 2, 2, 2, 2, 2, 2, 2, 2, 2, 2, 2, 2, 2, 2, 2]),\n",
       " 'frame': None,\n",
       " 'target_names': array(['setosa', 'versicolor', 'virginica'], dtype='<U10'),\n",
       " 'DESCR': '.. _iris_dataset:\\n\\nIris plants dataset\\n--------------------\\n\\n**Data Set Characteristics:**\\n\\n    :Number of Instances: 150 (50 in each of three classes)\\n    :Number of Attributes: 4 numeric, predictive attributes and the class\\n    :Attribute Information:\\n        - sepal length in cm\\n        - sepal width in cm\\n        - petal length in cm\\n        - petal width in cm\\n        - class:\\n                - Iris-Setosa\\n                - Iris-Versicolour\\n                - Iris-Virginica\\n                \\n    :Summary Statistics:\\n\\n    ============== ==== ==== ======= ===== ====================\\n                    Min  Max   Mean    SD   Class Correlation\\n    ============== ==== ==== ======= ===== ====================\\n    sepal length:   4.3  7.9   5.84   0.83    0.7826\\n    sepal width:    2.0  4.4   3.05   0.43   -0.4194\\n    petal length:   1.0  6.9   3.76   1.76    0.9490  (high!)\\n    petal width:    0.1  2.5   1.20   0.76    0.9565  (high!)\\n    ============== ==== ==== ======= ===== ====================\\n\\n    :Missing Attribute Values: None\\n    :Class Distribution: 33.3% for each of 3 classes.\\n    :Creator: R.A. Fisher\\n    :Donor: Michael Marshall (MARSHALL%PLU@io.arc.nasa.gov)\\n    :Date: July, 1988\\n\\nThe famous Iris database, first used by Sir R.A. Fisher. The dataset is taken\\nfrom Fisher\\'s paper. Note that it\\'s the same as in R, but not as in the UCI\\nMachine Learning Repository, which has two wrong data points.\\n\\nThis is perhaps the best known database to be found in the\\npattern recognition literature.  Fisher\\'s paper is a classic in the field and\\nis referenced frequently to this day.  (See Duda & Hart, for example.)  The\\ndata set contains 3 classes of 50 instances each, where each class refers to a\\ntype of iris plant.  One class is linearly separable from the other 2; the\\nlatter are NOT linearly separable from each other.\\n\\n.. topic:: References\\n\\n   - Fisher, R.A. \"The use of multiple measurements in taxonomic problems\"\\n     Annual Eugenics, 7, Part II, 179-188 (1936); also in \"Contributions to\\n     Mathematical Statistics\" (John Wiley, NY, 1950).\\n   - Duda, R.O., & Hart, P.E. (1973) Pattern Classification and Scene Analysis.\\n     (Q327.D83) John Wiley & Sons.  ISBN 0-471-22361-1.  See page 218.\\n   - Dasarathy, B.V. (1980) \"Nosing Around the Neighborhood: A New System\\n     Structure and Classification Rule for Recognition in Partially Exposed\\n     Environments\".  IEEE Transactions on Pattern Analysis and Machine\\n     Intelligence, Vol. PAMI-2, No. 1, 67-71.\\n   - Gates, G.W. (1972) \"The Reduced Nearest Neighbor Rule\".  IEEE Transactions\\n     on Information Theory, May 1972, 431-433.\\n   - See also: 1988 MLC Proceedings, 54-64.  Cheeseman et al\"s AUTOCLASS II\\n     conceptual clustering system finds 3 classes in the data.\\n   - Many, many more ...',\n",
       " 'feature_names': ['sepal length (cm)',\n",
       "  'sepal width (cm)',\n",
       "  'petal length (cm)',\n",
       "  'petal width (cm)'],\n",
       " 'filename': 'iris.csv',\n",
       " 'data_module': 'sklearn.datasets.data'}"
      ]
     },
     "execution_count": 3,
     "metadata": {},
     "output_type": "execute_result"
    }
   ],
   "source": [
    "# carregando as informações que serão utilizadas. A varíavel abaixo armazena as informações disponibilizadas pela biblioteca. Neste caso, informações sobre a flor íris.\n",
    "iris = datasets.load_iris()\n",
    "iris"
   ]
  },
  {
   "cell_type": "code",
   "execution_count": 4,
   "metadata": {
    "colab": {
     "base_uri": "https://localhost:8080/"
    },
    "executionInfo": {
     "elapsed": 94,
     "status": "ok",
     "timestamp": 1687306678308,
     "user": {
      "displayName": "Isadora Almeida Poppi Durante",
      "userId": "00823796383294443252"
     },
     "user_tz": 180
    },
    "id": "52wnQZqPOFt4",
    "outputId": "545e9d63-0376-4cf7-fd46-38e5ab1fed19"
   },
   "outputs": [
    {
     "data": {
      "text/plain": [
       "array([[5.1, 3.5, 1.4, 0.2],\n",
       "       [4.9, 3. , 1.4, 0.2],\n",
       "       [4.7, 3.2, 1.3, 0.2],\n",
       "       [4.6, 3.1, 1.5, 0.2],\n",
       "       [5. , 3.6, 1.4, 0.2],\n",
       "       [5.4, 3.9, 1.7, 0.4],\n",
       "       [4.6, 3.4, 1.4, 0.3],\n",
       "       [5. , 3.4, 1.5, 0.2],\n",
       "       [4.4, 2.9, 1.4, 0.2],\n",
       "       [4.9, 3.1, 1.5, 0.1],\n",
       "       [5.4, 3.7, 1.5, 0.2],\n",
       "       [4.8, 3.4, 1.6, 0.2],\n",
       "       [4.8, 3. , 1.4, 0.1],\n",
       "       [4.3, 3. , 1.1, 0.1],\n",
       "       [5.8, 4. , 1.2, 0.2],\n",
       "       [5.7, 4.4, 1.5, 0.4],\n",
       "       [5.4, 3.9, 1.3, 0.4],\n",
       "       [5.1, 3.5, 1.4, 0.3],\n",
       "       [5.7, 3.8, 1.7, 0.3],\n",
       "       [5.1, 3.8, 1.5, 0.3],\n",
       "       [5.4, 3.4, 1.7, 0.2],\n",
       "       [5.1, 3.7, 1.5, 0.4],\n",
       "       [4.6, 3.6, 1. , 0.2],\n",
       "       [5.1, 3.3, 1.7, 0.5],\n",
       "       [4.8, 3.4, 1.9, 0.2],\n",
       "       [5. , 3. , 1.6, 0.2],\n",
       "       [5. , 3.4, 1.6, 0.4],\n",
       "       [5.2, 3.5, 1.5, 0.2],\n",
       "       [5.2, 3.4, 1.4, 0.2],\n",
       "       [4.7, 3.2, 1.6, 0.2],\n",
       "       [4.8, 3.1, 1.6, 0.2],\n",
       "       [5.4, 3.4, 1.5, 0.4],\n",
       "       [5.2, 4.1, 1.5, 0.1],\n",
       "       [5.5, 4.2, 1.4, 0.2],\n",
       "       [4.9, 3.1, 1.5, 0.2],\n",
       "       [5. , 3.2, 1.2, 0.2],\n",
       "       [5.5, 3.5, 1.3, 0.2],\n",
       "       [4.9, 3.6, 1.4, 0.1],\n",
       "       [4.4, 3. , 1.3, 0.2],\n",
       "       [5.1, 3.4, 1.5, 0.2],\n",
       "       [5. , 3.5, 1.3, 0.3],\n",
       "       [4.5, 2.3, 1.3, 0.3],\n",
       "       [4.4, 3.2, 1.3, 0.2],\n",
       "       [5. , 3.5, 1.6, 0.6],\n",
       "       [5.1, 3.8, 1.9, 0.4],\n",
       "       [4.8, 3. , 1.4, 0.3],\n",
       "       [5.1, 3.8, 1.6, 0.2],\n",
       "       [4.6, 3.2, 1.4, 0.2],\n",
       "       [5.3, 3.7, 1.5, 0.2],\n",
       "       [5. , 3.3, 1.4, 0.2],\n",
       "       [7. , 3.2, 4.7, 1.4],\n",
       "       [6.4, 3.2, 4.5, 1.5],\n",
       "       [6.9, 3.1, 4.9, 1.5],\n",
       "       [5.5, 2.3, 4. , 1.3],\n",
       "       [6.5, 2.8, 4.6, 1.5],\n",
       "       [5.7, 2.8, 4.5, 1.3],\n",
       "       [6.3, 3.3, 4.7, 1.6],\n",
       "       [4.9, 2.4, 3.3, 1. ],\n",
       "       [6.6, 2.9, 4.6, 1.3],\n",
       "       [5.2, 2.7, 3.9, 1.4],\n",
       "       [5. , 2. , 3.5, 1. ],\n",
       "       [5.9, 3. , 4.2, 1.5],\n",
       "       [6. , 2.2, 4. , 1. ],\n",
       "       [6.1, 2.9, 4.7, 1.4],\n",
       "       [5.6, 2.9, 3.6, 1.3],\n",
       "       [6.7, 3.1, 4.4, 1.4],\n",
       "       [5.6, 3. , 4.5, 1.5],\n",
       "       [5.8, 2.7, 4.1, 1. ],\n",
       "       [6.2, 2.2, 4.5, 1.5],\n",
       "       [5.6, 2.5, 3.9, 1.1],\n",
       "       [5.9, 3.2, 4.8, 1.8],\n",
       "       [6.1, 2.8, 4. , 1.3],\n",
       "       [6.3, 2.5, 4.9, 1.5],\n",
       "       [6.1, 2.8, 4.7, 1.2],\n",
       "       [6.4, 2.9, 4.3, 1.3],\n",
       "       [6.6, 3. , 4.4, 1.4],\n",
       "       [6.8, 2.8, 4.8, 1.4],\n",
       "       [6.7, 3. , 5. , 1.7],\n",
       "       [6. , 2.9, 4.5, 1.5],\n",
       "       [5.7, 2.6, 3.5, 1. ],\n",
       "       [5.5, 2.4, 3.8, 1.1],\n",
       "       [5.5, 2.4, 3.7, 1. ],\n",
       "       [5.8, 2.7, 3.9, 1.2],\n",
       "       [6. , 2.7, 5.1, 1.6],\n",
       "       [5.4, 3. , 4.5, 1.5],\n",
       "       [6. , 3.4, 4.5, 1.6],\n",
       "       [6.7, 3.1, 4.7, 1.5],\n",
       "       [6.3, 2.3, 4.4, 1.3],\n",
       "       [5.6, 3. , 4.1, 1.3],\n",
       "       [5.5, 2.5, 4. , 1.3],\n",
       "       [5.5, 2.6, 4.4, 1.2],\n",
       "       [6.1, 3. , 4.6, 1.4],\n",
       "       [5.8, 2.6, 4. , 1.2],\n",
       "       [5. , 2.3, 3.3, 1. ],\n",
       "       [5.6, 2.7, 4.2, 1.3],\n",
       "       [5.7, 3. , 4.2, 1.2],\n",
       "       [5.7, 2.9, 4.2, 1.3],\n",
       "       [6.2, 2.9, 4.3, 1.3],\n",
       "       [5.1, 2.5, 3. , 1.1],\n",
       "       [5.7, 2.8, 4.1, 1.3],\n",
       "       [6.3, 3.3, 6. , 2.5],\n",
       "       [5.8, 2.7, 5.1, 1.9],\n",
       "       [7.1, 3. , 5.9, 2.1],\n",
       "       [6.3, 2.9, 5.6, 1.8],\n",
       "       [6.5, 3. , 5.8, 2.2],\n",
       "       [7.6, 3. , 6.6, 2.1],\n",
       "       [4.9, 2.5, 4.5, 1.7],\n",
       "       [7.3, 2.9, 6.3, 1.8],\n",
       "       [6.7, 2.5, 5.8, 1.8],\n",
       "       [7.2, 3.6, 6.1, 2.5],\n",
       "       [6.5, 3.2, 5.1, 2. ],\n",
       "       [6.4, 2.7, 5.3, 1.9],\n",
       "       [6.8, 3. , 5.5, 2.1],\n",
       "       [5.7, 2.5, 5. , 2. ],\n",
       "       [5.8, 2.8, 5.1, 2.4],\n",
       "       [6.4, 3.2, 5.3, 2.3],\n",
       "       [6.5, 3. , 5.5, 1.8],\n",
       "       [7.7, 3.8, 6.7, 2.2],\n",
       "       [7.7, 2.6, 6.9, 2.3],\n",
       "       [6. , 2.2, 5. , 1.5],\n",
       "       [6.9, 3.2, 5.7, 2.3],\n",
       "       [5.6, 2.8, 4.9, 2. ],\n",
       "       [7.7, 2.8, 6.7, 2. ],\n",
       "       [6.3, 2.7, 4.9, 1.8],\n",
       "       [6.7, 3.3, 5.7, 2.1],\n",
       "       [7.2, 3.2, 6. , 1.8],\n",
       "       [6.2, 2.8, 4.8, 1.8],\n",
       "       [6.1, 3. , 4.9, 1.8],\n",
       "       [6.4, 2.8, 5.6, 2.1],\n",
       "       [7.2, 3. , 5.8, 1.6],\n",
       "       [7.4, 2.8, 6.1, 1.9],\n",
       "       [7.9, 3.8, 6.4, 2. ],\n",
       "       [6.4, 2.8, 5.6, 2.2],\n",
       "       [6.3, 2.8, 5.1, 1.5],\n",
       "       [6.1, 2.6, 5.6, 1.4],\n",
       "       [7.7, 3. , 6.1, 2.3],\n",
       "       [6.3, 3.4, 5.6, 2.4],\n",
       "       [6.4, 3.1, 5.5, 1.8],\n",
       "       [6. , 3. , 4.8, 1.8],\n",
       "       [6.9, 3.1, 5.4, 2.1],\n",
       "       [6.7, 3.1, 5.6, 2.4],\n",
       "       [6.9, 3.1, 5.1, 2.3],\n",
       "       [5.8, 2.7, 5.1, 1.9],\n",
       "       [6.8, 3.2, 5.9, 2.3],\n",
       "       [6.7, 3.3, 5.7, 2.5],\n",
       "       [6.7, 3. , 5.2, 2.3],\n",
       "       [6.3, 2.5, 5. , 1.9],\n",
       "       [6.5, 3. , 5.2, 2. ],\n",
       "       [6.2, 3.4, 5.4, 2.3],\n",
       "       [5.9, 3. , 5.1, 1.8]])"
      ]
     },
     "execution_count": 4,
     "metadata": {},
     "output_type": "execute_result"
    }
   ],
   "source": [
    "# a linha abaixo possibilita vermos os DADOS que temos disponíveis\n",
    "iris.data"
   ]
  },
  {
   "cell_type": "code",
   "execution_count": 5,
   "metadata": {
    "colab": {
     "base_uri": "https://localhost:8080/"
    },
    "executionInfo": {
     "elapsed": 49,
     "status": "ok",
     "timestamp": 1687306678309,
     "user": {
      "displayName": "Isadora Almeida Poppi Durante",
      "userId": "00823796383294443252"
     },
     "user_tz": 180
    },
    "id": "R-yzB3bvOKFH",
    "outputId": "69f2ab20-b251-4004-b514-762dcad7f909"
   },
   "outputs": [
    {
     "data": {
      "text/plain": [
       "array([0, 0, 0, 0, 0, 0, 0, 0, 0, 0, 0, 0, 0, 0, 0, 0, 0, 0, 0, 0, 0, 0,\n",
       "       0, 0, 0, 0, 0, 0, 0, 0, 0, 0, 0, 0, 0, 0, 0, 0, 0, 0, 0, 0, 0, 0,\n",
       "       0, 0, 0, 0, 0, 0, 1, 1, 1, 1, 1, 1, 1, 1, 1, 1, 1, 1, 1, 1, 1, 1,\n",
       "       1, 1, 1, 1, 1, 1, 1, 1, 1, 1, 1, 1, 1, 1, 1, 1, 1, 1, 1, 1, 1, 1,\n",
       "       1, 1, 1, 1, 1, 1, 1, 1, 1, 1, 1, 1, 2, 2, 2, 2, 2, 2, 2, 2, 2, 2,\n",
       "       2, 2, 2, 2, 2, 2, 2, 2, 2, 2, 2, 2, 2, 2, 2, 2, 2, 2, 2, 2, 2, 2,\n",
       "       2, 2, 2, 2, 2, 2, 2, 2, 2, 2, 2, 2, 2, 2, 2, 2, 2, 2])"
      ]
     },
     "execution_count": 5,
     "metadata": {},
     "output_type": "execute_result"
    }
   ],
   "source": [
    "# o target são as classificações possíveis da íris. No caso temos 0 = setosa, 1 = versicolor e 2 = virginica. red=setosa,green=versicolor,blue=virginica\n",
    "iris.target"
   ]
  },
  {
   "cell_type": "code",
   "execution_count": 6,
   "metadata": {
    "colab": {
     "base_uri": "https://localhost:8080/"
    },
    "executionInfo": {
     "elapsed": 36,
     "status": "ok",
     "timestamp": 1687306678310,
     "user": {
      "displayName": "Isadora Almeida Poppi Durante",
      "userId": "00823796383294443252"
     },
     "user_tz": 180
    },
    "id": "kN4r8qMHOM2H",
    "outputId": "d9b8f740-a569-4d1f-ea4b-ded9881a196b"
   },
   "outputs": [
    {
     "data": {
      "text/plain": [
       "['sepal length (cm)',\n",
       " 'sepal width (cm)',\n",
       " 'petal length (cm)',\n",
       " 'petal width (cm)']"
      ]
     },
     "execution_count": 6,
     "metadata": {},
     "output_type": "execute_result"
    }
   ],
   "source": [
    "# o feature_names traz os nomes das colunas relativas as informações contidas no iris.data\n",
    "iris.feature_names"
   ]
  },
  {
   "cell_type": "code",
   "execution_count": 7,
   "metadata": {
    "colab": {
     "base_uri": "https://localhost:8080/"
    },
    "executionInfo": {
     "elapsed": 31,
     "status": "ok",
     "timestamp": 1687306678310,
     "user": {
      "displayName": "Isadora Almeida Poppi Durante",
      "userId": "00823796383294443252"
     },
     "user_tz": 180
    },
    "id": "cggnaZCtOQ9n",
    "outputId": "2f229a83-2866-445f-9d86-c8a10f88be81"
   },
   "outputs": [
    {
     "data": {
      "text/plain": [
       "array(['setosa', 'versicolor', 'virginica'], dtype='<U10')"
      ]
     },
     "execution_count": 7,
     "metadata": {},
     "output_type": "execute_result"
    }
   ],
   "source": [
    "# a target names, traz as informações de cada classificação da iris. Como dito mais acima, 0 = setosa, 1 = versicolor e 2 = virginica. red=setosa,green=versicolor,blue=virginica\n",
    "iris.target_names"
   ]
  },
  {
   "cell_type": "markdown",
   "metadata": {
    "id": "tcr_5LKqKwv_"
   },
   "source": [
    "# Proposta de execício"
   ]
  },
  {
   "cell_type": "markdown",
   "metadata": {
    "id": "xrLUriLjLcP_"
   },
   "source": [
    "## 1 - Transformar os dados que estão na varíavel iris num dataFrame\n",
    "1.1 - Transforme os DADOS da fonte de dados acima para em um dataFrame. Depois verifique quais os tipos de dados de cada coluna do DataFrame"
   ]
  },
  {
   "cell_type": "code",
   "execution_count": 8,
   "metadata": {
    "colab": {
     "base_uri": "https://localhost:8080/"
    },
    "executionInfo": {
     "elapsed": 1088,
     "status": "ok",
     "timestamp": 1687306679370,
     "user": {
      "displayName": "Isadora Almeida Poppi Durante",
      "userId": "00823796383294443252"
     },
     "user_tz": 180
    },
    "id": "ZuACXA0sL78e",
    "outputId": "442413f0-7bb2-45d6-afc7-fe4ea63734fa"
   },
   "outputs": [
    {
     "name": "stdout",
     "output_type": "stream",
     "text": [
      "     sepal length (cm)  sepal width (cm)  petal length (cm)  petal width (cm)\n",
      "0                  5.1               3.5                1.4               0.2\n",
      "1                  4.9               3.0                1.4               0.2\n",
      "2                  4.7               3.2                1.3               0.2\n",
      "3                  4.6               3.1                1.5               0.2\n",
      "4                  5.0               3.6                1.4               0.2\n",
      "..                 ...               ...                ...               ...\n",
      "145                6.7               3.0                5.2               2.3\n",
      "146                6.3               2.5                5.0               1.9\n",
      "147                6.5               3.0                5.2               2.0\n",
      "148                6.2               3.4                5.4               2.3\n",
      "149                5.9               3.0                5.1               1.8\n",
      "\n",
      "[150 rows x 4 columns]\n"
     ]
    },
    {
     "data": {
      "text/plain": [
       "sepal length (cm)    float64\n",
       "sepal width (cm)     float64\n",
       "petal length (cm)    float64\n",
       "petal width (cm)     float64\n",
       "dtype: object"
      ]
     },
     "execution_count": 8,
     "metadata": {},
     "output_type": "execute_result"
    }
   ],
   "source": [
    "# criando um dataframe a partir de um array do numpy\n",
    "import pandas as pd\n",
    "from sklearn import datasets\n",
    "\n",
    "iris = datasets.load_iris()\n",
    "\n",
    "# Criar DataFrame a partir dos dados\n",
    "dates = pd.DataFrame(data=iris.data, columns=iris.feature_names)\n",
    "\n",
    "# Exibir o DataFrame\n",
    "print(dates)\n",
    "\n",
    "# verificar os tipos dos dados de cada coluna\n",
    "dates.dtypes\n"
   ]
  },
  {
   "cell_type": "markdown",
   "metadata": {
    "id": "xqpdcDokTT4I"
   },
   "source": [
    "1.2 - Transforme o Target da fonte de dados acima para em um dataFrame. Depois verifique quais os tipos de dados de cada coluna do DataFrame"
   ]
  },
  {
   "cell_type": "code",
   "execution_count": 9,
   "metadata": {
    "colab": {
     "base_uri": "https://localhost:8080/"
    },
    "executionInfo": {
     "elapsed": 113,
     "status": "ok",
     "timestamp": 1687306679372,
     "user": {
      "displayName": "Isadora Almeida Poppi Durante",
      "userId": "00823796383294443252"
     },
     "user_tz": 180
    },
    "id": "ZBitnrZL_sKa",
    "outputId": "44a6d217-d1f8-4b44-9ec1-e74fc58c82b1"
   },
   "outputs": [
    {
     "name": "stdout",
     "output_type": "stream",
     "text": [
      "     target\n",
      "0         0\n",
      "1         0\n",
      "2         0\n",
      "3         0\n",
      "4         0\n",
      "..      ...\n",
      "145       2\n",
      "146       2\n",
      "147       2\n",
      "148       2\n",
      "149       2\n",
      "\n",
      "[150 rows x 1 columns]\n"
     ]
    },
    {
     "data": {
      "text/plain": [
       "target    int64\n",
       "dtype: object"
      ]
     },
     "execution_count": 9,
     "metadata": {},
     "output_type": "execute_result"
    }
   ],
   "source": [
    "# Criar DataFrame para o target\n",
    "df_target = pd.DataFrame(data=iris.target, columns=['target'])\n",
    "\n",
    "# Exibir o DataFrame do target\n",
    "print(df_target)\n",
    "\n",
    "#verificar os tipos de dados da coluna\n",
    "df_target.dtypes\n"
   ]
  },
  {
   "cell_type": "markdown",
   "metadata": {
    "id": "MJIBeOGmMw7m"
   },
   "source": [
    "## 2 - Juntar os dataframes"
   ]
  },
  {
   "cell_type": "markdown",
   "metadata": {
    "id": "2ZkENZ4eAYwh"
   },
   "source": [
    "2.1 - Junte os dois DataFrames criados em um único conjunto de dados (novo DataFrame)."
   ]
  },
  {
   "cell_type": "markdown",
   "metadata": {
    "id": "FC0ax6LPBP80"
   },
   "source": []
  },
  {
   "cell_type": "code",
   "execution_count": 10,
   "metadata": {
    "colab": {
     "base_uri": "https://localhost:8080/"
    },
    "executionInfo": {
     "elapsed": 104,
     "status": "ok",
     "timestamp": 1687306679374,
     "user": {
      "displayName": "Isadora Almeida Poppi Durante",
      "userId": "00823796383294443252"
     },
     "user_tz": 180
    },
    "id": "-xNfypcW_0KD",
    "outputId": "d5970272-128f-4cb2-be0a-2885bebed0e5"
   },
   "outputs": [
    {
     "name": "stdout",
     "output_type": "stream",
     "text": [
      "     sepal length (cm)  sepal width (cm)  petal length (cm)  petal width (cm)  \\\n",
      "0                  5.1               3.5                1.4               0.2   \n",
      "1                  4.9               3.0                1.4               0.2   \n",
      "2                  4.7               3.2                1.3               0.2   \n",
      "3                  4.6               3.1                1.5               0.2   \n",
      "4                  5.0               3.6                1.4               0.2   \n",
      "..                 ...               ...                ...               ...   \n",
      "145                6.7               3.0                5.2               2.3   \n",
      "146                6.3               2.5                5.0               1.9   \n",
      "147                6.5               3.0                5.2               2.0   \n",
      "148                6.2               3.4                5.4               2.3   \n",
      "149                5.9               3.0                5.1               1.8   \n",
      "\n",
      "     target  \n",
      "0         0  \n",
      "1         0  \n",
      "2         0  \n",
      "3         0  \n",
      "4         0  \n",
      "..      ...  \n",
      "145       2  \n",
      "146       2  \n",
      "147       2  \n",
      "148       2  \n",
      "149       2  \n",
      "\n",
      "[150 rows x 5 columns]\n"
     ]
    }
   ],
   "source": [
    "# juntar os  DataFrames\n",
    "novo_df = pd.concat([dates, df_target], axis=1)\n",
    "\n",
    "# Exibir o novo DataFrame\n",
    "print(novo_df)\n"
   ]
  },
  {
   "cell_type": "markdown",
   "metadata": {
    "id": "HVGKazC5AdXU"
   },
   "source": [
    "2.2 - Adicione ao array iris.feature_names mais uma coluna chamada classification. A lista ficará nesse formato: ['sepal length (cm)',\n",
    " 'sepal width (cm)',\n",
    " 'petal length (cm)',\n",
    " 'petal width (cm)',\n",
    " 'classification']"
   ]
  },
  {
   "cell_type": "code",
   "execution_count": 11,
   "metadata": {
    "colab": {
     "base_uri": "https://localhost:8080/"
    },
    "executionInfo": {
     "elapsed": 101,
     "status": "ok",
     "timestamp": 1687306679376,
     "user": {
      "displayName": "Isadora Almeida Poppi Durante",
      "userId": "00823796383294443252"
     },
     "user_tz": 180
    },
    "id": "cjNOY7hdSNgI",
    "outputId": "d21e4ea3-bfcc-46dc-957d-1dfdf4028881"
   },
   "outputs": [
    {
     "name": "stdout",
     "output_type": "stream",
     "text": [
      "['sepal length (cm)', 'sepal width (cm)', 'petal length (cm)', 'petal width (cm)', 'classification']\n"
     ]
    }
   ],
   "source": [
    "# importantado os recursos de informações que serão utilizadas\n",
    "from sklearn import datasets\n",
    "\n",
    "iris = datasets.load_iris()\n",
    "\n",
    "# Adicionar a coluna \"classification\" em feature_names\n",
    "iris.feature_names.append('classification')\n",
    "\n",
    "print(iris.feature_names)\n",
    "\n"
   ]
  },
  {
   "cell_type": "markdown",
   "metadata": {
    "id": "vNvgn2EFLgFX"
   },
   "source": [
    "## 3 - Renomear as colunas\n",
    "A ideia é relacionar as informações disponibilizadas pela função iris.feature_names (nome das colunas) atualizada no item anterior  com os dados disponíveis no iris.data. Como resultado,vocês devem ter o DataFrame igual ao mostrado na imagem abaixo.\n",
    "\n",
    "![image.png](data:image/png;base64,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)"
   ]
  },
  {
   "cell_type": "code",
   "execution_count": 12,
   "metadata": {
    "colab": {
     "base_uri": "https://localhost:8080/"
    },
    "executionInfo": {
     "elapsed": 98,
     "status": "ok",
     "timestamp": 1687306679378,
     "user": {
      "displayName": "Isadora Almeida Poppi Durante",
      "userId": "00823796383294443252"
     },
     "user_tz": 180
    },
    "id": "3IjHFoezSPG3",
    "outputId": "d5adb8ca-e93a-4a27-be2f-8c2c33fe7458"
   },
   "outputs": [
    {
     "name": "stdout",
     "output_type": "stream",
     "text": [
      "     sepal length (cm)  sepal width (cm)  petal length (cm)  petal width (cm)  \\\n",
      "0                  5.1               3.5                1.4               0.2   \n",
      "1                  4.9               3.0                1.4               0.2   \n",
      "2                  4.7               3.2                1.3               0.2   \n",
      "3                  4.6               3.1                1.5               0.2   \n",
      "4                  5.0               3.6                1.4               0.2   \n",
      "..                 ...               ...                ...               ...   \n",
      "145                6.7               3.0                5.2               2.3   \n",
      "146                6.3               2.5                5.0               1.9   \n",
      "147                6.5               3.0                5.2               2.0   \n",
      "148                6.2               3.4                5.4               2.3   \n",
      "149                5.9               3.0                5.1               1.8   \n",
      "\n",
      "    classification  \n",
      "0           setosa  \n",
      "1           setosa  \n",
      "2           setosa  \n",
      "3           setosa  \n",
      "4           setosa  \n",
      "..             ...  \n",
      "145      virginica  \n",
      "146      virginica  \n",
      "147      virginica  \n",
      "148      virginica  \n",
      "149      virginica  \n",
      "\n",
      "[150 rows x 5 columns]\n"
     ]
    }
   ],
   "source": [
    "#importando os recursos\n",
    "import pandas as pd\n",
    "from sklearn import datasets\n",
    "\n",
    "iris = datasets.load_iris()\n",
    "\n",
    "#utilizando o dataFrame feito anteriormente(1.1)\n",
    "dates = pd.DataFrame(data=iris.data, columns=iris.feature_names)\n",
    "\n",
    "# Adicionar a coluna \"classification\" ao DataFrame, os nomes das classes em iris.target_names são correspondentes aos valores em iris.target\n",
    "\n",
    "dates['classification'] = iris.target_names[iris.target]\n",
    "\n",
    "\n",
    "# Exibir o DataFrame resultante\n",
    "print(dates)\n"
   ]
  },
  {
   "cell_type": "markdown",
   "metadata": {
    "id": "yIzJv_Y0MEPu"
   },
   "source": [
    "##4 - Selecionar colunas específicas por índices\n",
    "Para testar o resultado até o momento, selecione algumas informações utilizando os nomes e os indíces disponíveis no dataframe."
   ]
  },
  {
   "cell_type": "code",
   "execution_count": 13,
   "metadata": {
    "colab": {
     "base_uri": "https://localhost:8080/",
     "height": 175
    },
    "executionInfo": {
     "elapsed": 96,
     "status": "ok",
     "timestamp": 1687306679379,
     "user": {
      "displayName": "Isadora Almeida Poppi Durante",
      "userId": "00823796383294443252"
     },
     "user_tz": 180
    },
    "id": "rKAdrM4bSPp_",
    "outputId": "ed72392b-03b6-4a83-b7d0-c9125c72a03e"
   },
   "outputs": [
    {
     "data": {
      "text/html": [
       "\n",
       "  <div id=\"df-16007c89-4c85-4055-b333-9a399a74ad7b\">\n",
       "    <div class=\"colab-df-container\">\n",
       "      <div>\n",
       "<style scoped>\n",
       "    .dataframe tbody tr th:only-of-type {\n",
       "        vertical-align: middle;\n",
       "    }\n",
       "\n",
       "    .dataframe tbody tr th {\n",
       "        vertical-align: top;\n",
       "    }\n",
       "\n",
       "    .dataframe thead th {\n",
       "        text-align: right;\n",
       "    }\n",
       "</style>\n",
       "<table border=\"1\" class=\"dataframe\">\n",
       "  <thead>\n",
       "    <tr style=\"text-align: right;\">\n",
       "      <th></th>\n",
       "      <th>sepal length (cm)</th>\n",
       "      <th>sepal width (cm)</th>\n",
       "      <th>petal length (cm)</th>\n",
       "      <th>petal width (cm)</th>\n",
       "      <th>classification</th>\n",
       "    </tr>\n",
       "  </thead>\n",
       "  <tbody>\n",
       "    <tr>\n",
       "      <th>3</th>\n",
       "      <td>4.6</td>\n",
       "      <td>3.1</td>\n",
       "      <td>1.5</td>\n",
       "      <td>0.2</td>\n",
       "      <td>setosa</td>\n",
       "    </tr>\n",
       "    <tr>\n",
       "      <th>4</th>\n",
       "      <td>5.0</td>\n",
       "      <td>3.6</td>\n",
       "      <td>1.4</td>\n",
       "      <td>0.2</td>\n",
       "      <td>setosa</td>\n",
       "    </tr>\n",
       "    <tr>\n",
       "      <th>5</th>\n",
       "      <td>5.4</td>\n",
       "      <td>3.9</td>\n",
       "      <td>1.7</td>\n",
       "      <td>0.4</td>\n",
       "      <td>setosa</td>\n",
       "    </tr>\n",
       "    <tr>\n",
       "      <th>6</th>\n",
       "      <td>4.6</td>\n",
       "      <td>3.4</td>\n",
       "      <td>1.4</td>\n",
       "      <td>0.3</td>\n",
       "      <td>setosa</td>\n",
       "    </tr>\n",
       "  </tbody>\n",
       "</table>\n",
       "</div>\n",
       "      <button class=\"colab-df-convert\" onclick=\"convertToInteractive('df-16007c89-4c85-4055-b333-9a399a74ad7b')\"\n",
       "              title=\"Convert this dataframe to an interactive table.\"\n",
       "              style=\"display:none;\">\n",
       "        \n",
       "  <svg xmlns=\"http://www.w3.org/2000/svg\" height=\"24px\"viewBox=\"0 0 24 24\"\n",
       "       width=\"24px\">\n",
       "    <path d=\"M0 0h24v24H0V0z\" fill=\"none\"/>\n",
       "    <path d=\"M18.56 5.44l.94 2.06.94-2.06 2.06-.94-2.06-.94-.94-2.06-.94 2.06-2.06.94zm-11 1L8.5 8.5l.94-2.06 2.06-.94-2.06-.94L8.5 2.5l-.94 2.06-2.06.94zm10 10l.94 2.06.94-2.06 2.06-.94-2.06-.94-.94-2.06-.94 2.06-2.06.94z\"/><path d=\"M17.41 7.96l-1.37-1.37c-.4-.4-.92-.59-1.43-.59-.52 0-1.04.2-1.43.59L10.3 9.45l-7.72 7.72c-.78.78-.78 2.05 0 2.83L4 21.41c.39.39.9.59 1.41.59.51 0 1.02-.2 1.41-.59l7.78-7.78 2.81-2.81c.8-.78.8-2.07 0-2.86zM5.41 20L4 18.59l7.72-7.72 1.47 1.35L5.41 20z\"/>\n",
       "  </svg>\n",
       "      </button>\n",
       "      \n",
       "  <style>\n",
       "    .colab-df-container {\n",
       "      display:flex;\n",
       "      flex-wrap:wrap;\n",
       "      gap: 12px;\n",
       "    }\n",
       "\n",
       "    .colab-df-convert {\n",
       "      background-color: #E8F0FE;\n",
       "      border: none;\n",
       "      border-radius: 50%;\n",
       "      cursor: pointer;\n",
       "      display: none;\n",
       "      fill: #1967D2;\n",
       "      height: 32px;\n",
       "      padding: 0 0 0 0;\n",
       "      width: 32px;\n",
       "    }\n",
       "\n",
       "    .colab-df-convert:hover {\n",
       "      background-color: #E2EBFA;\n",
       "      box-shadow: 0px 1px 2px rgba(60, 64, 67, 0.3), 0px 1px 3px 1px rgba(60, 64, 67, 0.15);\n",
       "      fill: #174EA6;\n",
       "    }\n",
       "\n",
       "    [theme=dark] .colab-df-convert {\n",
       "      background-color: #3B4455;\n",
       "      fill: #D2E3FC;\n",
       "    }\n",
       "\n",
       "    [theme=dark] .colab-df-convert:hover {\n",
       "      background-color: #434B5C;\n",
       "      box-shadow: 0px 1px 3px 1px rgba(0, 0, 0, 0.15);\n",
       "      filter: drop-shadow(0px 1px 2px rgba(0, 0, 0, 0.3));\n",
       "      fill: #FFFFFF;\n",
       "    }\n",
       "  </style>\n",
       "\n",
       "      <script>\n",
       "        const buttonEl =\n",
       "          document.querySelector('#df-16007c89-4c85-4055-b333-9a399a74ad7b button.colab-df-convert');\n",
       "        buttonEl.style.display =\n",
       "          google.colab.kernel.accessAllowed ? 'block' : 'none';\n",
       "\n",
       "        async function convertToInteractive(key) {\n",
       "          const element = document.querySelector('#df-16007c89-4c85-4055-b333-9a399a74ad7b');\n",
       "          const dataTable =\n",
       "            await google.colab.kernel.invokeFunction('convertToInteractive',\n",
       "                                                     [key], {});\n",
       "          if (!dataTable) return;\n",
       "\n",
       "          const docLinkHtml = 'Like what you see? Visit the ' +\n",
       "            '<a target=\"_blank\" href=https://colab.research.google.com/notebooks/data_table.ipynb>data table notebook</a>'\n",
       "            + ' to learn more about interactive tables.';\n",
       "          element.innerHTML = '';\n",
       "          dataTable['output_type'] = 'display_data';\n",
       "          await google.colab.output.renderOutput(dataTable, element);\n",
       "          const docLink = document.createElement('div');\n",
       "          docLink.innerHTML = docLinkHtml;\n",
       "          element.appendChild(docLink);\n",
       "        }\n",
       "      </script>\n",
       "    </div>\n",
       "  </div>\n",
       "  "
      ],
      "text/plain": [
       "   sepal length (cm)  sepal width (cm)  petal length (cm)  petal width (cm)  \\\n",
       "3                4.6               3.1                1.5               0.2   \n",
       "4                5.0               3.6                1.4               0.2   \n",
       "5                5.4               3.9                1.7               0.4   \n",
       "6                4.6               3.4                1.4               0.3   \n",
       "\n",
       "  classification  \n",
       "3         setosa  \n",
       "4         setosa  \n",
       "5         setosa  \n",
       "6         setosa  "
      ]
     },
     "execution_count": 13,
     "metadata": {},
     "output_type": "execute_result"
    }
   ],
   "source": [
    "# selecionando uma coluna\n",
    "dates['sepal length (cm)']\n",
    "\n",
    "#selecionando duas colunas\n",
    "dates[['petal length (cm)', 'petal width (cm)']]\n",
    "\n",
    "# selecionando um intervalo de linhas\n",
    "dates[0:5]\n",
    "\n",
    "# selecionando por posição\n",
    "dates.iloc[3]\n",
    "\n",
    "# selecionando por intervalo de posições (linha : coluna)\n",
    "dates.iloc[3:7, 0:5]\n"
   ]
  },
  {
   "cell_type": "markdown",
   "metadata": {
    "id": "j4pi2BreMSUu"
   },
   "source": [
    "##5 - Filtrar registros (linhas)\n",
    "Conte quantos registro que:\n",
    "  1.  petal length (cm) == 1.4 (informe a quantidade aqui)\n",
    "  2 . petal length (cm) seja maior que 1.4 e classification seja igual a setosa (informe a quantidade aqui)\n",
    "  3. sepal length (cm) seja igual a 5.1 e petal width (cm) seja igual a 0.2 (informe a quantidade aqui)\n",
    "  4. sepal length (cm) seja igual a 5.1 ou petal width (cm) seja igual a 0.2\n",
    "(informe a quantidade aqui)\n",
    "\n",
    "\n",
    "\n"
   ]
  },
  {
   "cell_type": "code",
   "execution_count": 14,
   "metadata": {
    "colab": {
     "base_uri": "https://localhost:8080/"
    },
    "executionInfo": {
     "elapsed": 92,
     "status": "ok",
     "timestamp": 1687306679380,
     "user": {
      "displayName": "Isadora Almeida Poppi Durante",
      "userId": "00823796383294443252"
     },
     "user_tz": 180
    },
    "id": "_GWtL7q0SQRn",
    "outputId": "2ee11814-f9b9-45a1-d2da-bf16c350e0e1"
   },
   "outputs": [
    {
     "name": "stdout",
     "output_type": "stream",
     "text": [
      "1. Quantidade de registros com petal length (cm) igual a 1.4: 13\n"
     ]
    }
   ],
   "source": [
    "import pandas as pd\n",
    "from sklearn import datasets\n",
    "\n",
    "iris = datasets.load_iris()\n",
    "\n",
    "#Para contar o número de registros que atendem a determinadas condições no DataFrame, utilizamos a  função sum()do pandas.\n",
    "\n",
    "# petal length (cm) é igual a 1.4\n",
    "passo_1 = sum(dates['petal length (cm)'] == 1.4)\n",
    "print(\"1. Quantidade de registros com petal length (cm) igual a 1.4:\", passo_1)\n"
   ]
  },
  {
   "cell_type": "code",
   "execution_count": 15,
   "metadata": {
    "colab": {
     "base_uri": "https://localhost:8080/"
    },
    "executionInfo": {
     "elapsed": 88,
     "status": "ok",
     "timestamp": 1687306679381,
     "user": {
      "displayName": "Isadora Almeida Poppi Durante",
      "userId": "00823796383294443252"
     },
     "user_tz": 180
    },
    "id": "BfWbabDvHZsv",
    "outputId": "20c195b6-56a6-4be5-96a4-239cf06e1f1e"
   },
   "outputs": [
    {
     "name": "stdout",
     "output_type": "stream",
     "text": [
      "2. Quantidade de registros com petal length (cm) maior que 1.4 e classification igual a setosa: 26\n"
     ]
    }
   ],
   "source": [
    "# Ao lidar com expressões booleanas no pandas, devemos usar o operador \"&\"\" ou \"|\" para realizar uma operação de \"and\" elemento a elemento, e não o operador and convencional.\n",
    "\n",
    "#Petal length (cm) é maior que 1.4 e classification é igual a setosa\n",
    "passo_2 = sum((dates['petal length (cm)'] > 1.4) & (dates['classification'] == 'setosa'))\n",
    "print(\"2. Quantidade de registros com petal length (cm) maior que 1.4 e classification igual a setosa:\", passo_2)\n"
   ]
  },
  {
   "cell_type": "code",
   "execution_count": 16,
   "metadata": {
    "colab": {
     "base_uri": "https://localhost:8080/"
    },
    "executionInfo": {
     "elapsed": 86,
     "status": "ok",
     "timestamp": 1687306679382,
     "user": {
      "displayName": "Isadora Almeida Poppi Durante",
      "userId": "00823796383294443252"
     },
     "user_tz": 180
    },
    "id": "TlxrEFY8IZoD",
    "outputId": "3934fdc2-29d8-4216-ecfc-6c94032d0c85"
   },
   "outputs": [
    {
     "name": "stdout",
     "output_type": "stream",
     "text": [
      "3. Quantidade de registros com sepal length (cm) igual a 5.1 e petal width (cm) igual a 0.2: 3\n"
     ]
    }
   ],
   "source": [
    "#sepal length (cm) igual a 5.1 e petal width (cm)  igual a 0.2\n",
    "passo_3 = sum((dates['sepal length (cm)'] == 5.1) & (dates['petal width (cm)'] == 0.2))\n",
    "print(\"3. Quantidade de registros com sepal length (cm) igual a 5.1 e petal width (cm) igual a 0.2:\", passo_3)"
   ]
  },
  {
   "cell_type": "code",
   "execution_count": 17,
   "metadata": {
    "colab": {
     "base_uri": "https://localhost:8080/"
    },
    "executionInfo": {
     "elapsed": 78,
     "status": "ok",
     "timestamp": 1687306679383,
     "user": {
      "displayName": "Isadora Almeida Poppi Durante",
      "userId": "00823796383294443252"
     },
     "user_tz": 180
    },
    "id": "JHNu4c_iJHPx",
    "outputId": "6ec26be0-8407-4044-b478-f526b53b7e38"
   },
   "outputs": [
    {
     "name": "stdout",
     "output_type": "stream",
     "text": [
      "4. Quantidade de registros com sepal length (cm) igual a 5.1 ou petal width (cm) igual a 0.2: 35\n"
     ]
    }
   ],
   "source": [
    "#sepal length (cm) seja igual a 5.1 ou petal width (cm) seja igual a 0.2\n",
    "passo_4 = sum((dates['sepal length (cm)'] == 5.1) | (dates['petal width (cm)'] == 0.2))\n",
    "print(\"4. Quantidade de registros com sepal length (cm) igual a 5.1 ou petal width (cm) igual a 0.2:\", passo_4)"
   ]
  },
  {
   "cell_type": "markdown",
   "metadata": {
    "id": "Me52qAWmq-OV"
   },
   "source": [
    "##6 - Exclusão de registros\n",
    "1.  Exclua todas as linhas com indice 0,2,4,6.\n",
    "2. Exlcua a coluna petal length\n",
    "\n"
   ]
  },
  {
   "cell_type": "code",
   "execution_count": 18,
   "metadata": {
    "colab": {
     "base_uri": "https://localhost:8080/",
     "height": 423
    },
    "executionInfo": {
     "elapsed": 76,
     "status": "ok",
     "timestamp": 1687306679384,
     "user": {
      "displayName": "Isadora Almeida Poppi Durante",
      "userId": "00823796383294443252"
     },
     "user_tz": 180
    },
    "id": "e-avSagyrKBU",
    "outputId": "4f2499bf-8477-45ee-f006-f9b49322c063"
   },
   "outputs": [
    {
     "data": {
      "text/html": [
       "\n",
       "  <div id=\"df-b4a0c228-4c1a-48a8-ba95-904589cdded1\">\n",
       "    <div class=\"colab-df-container\">\n",
       "      <div>\n",
       "<style scoped>\n",
       "    .dataframe tbody tr th:only-of-type {\n",
       "        vertical-align: middle;\n",
       "    }\n",
       "\n",
       "    .dataframe tbody tr th {\n",
       "        vertical-align: top;\n",
       "    }\n",
       "\n",
       "    .dataframe thead th {\n",
       "        text-align: right;\n",
       "    }\n",
       "</style>\n",
       "<table border=\"1\" class=\"dataframe\">\n",
       "  <thead>\n",
       "    <tr style=\"text-align: right;\">\n",
       "      <th></th>\n",
       "      <th>sepal length (cm)</th>\n",
       "      <th>sepal width (cm)</th>\n",
       "      <th>petal length (cm)</th>\n",
       "      <th>petal width (cm)</th>\n",
       "      <th>classification</th>\n",
       "    </tr>\n",
       "  </thead>\n",
       "  <tbody>\n",
       "    <tr>\n",
       "      <th>1</th>\n",
       "      <td>4.9</td>\n",
       "      <td>3.0</td>\n",
       "      <td>1.4</td>\n",
       "      <td>0.2</td>\n",
       "      <td>setosa</td>\n",
       "    </tr>\n",
       "    <tr>\n",
       "      <th>3</th>\n",
       "      <td>4.6</td>\n",
       "      <td>3.1</td>\n",
       "      <td>1.5</td>\n",
       "      <td>0.2</td>\n",
       "      <td>setosa</td>\n",
       "    </tr>\n",
       "    <tr>\n",
       "      <th>5</th>\n",
       "      <td>5.4</td>\n",
       "      <td>3.9</td>\n",
       "      <td>1.7</td>\n",
       "      <td>0.4</td>\n",
       "      <td>setosa</td>\n",
       "    </tr>\n",
       "    <tr>\n",
       "      <th>7</th>\n",
       "      <td>5.0</td>\n",
       "      <td>3.4</td>\n",
       "      <td>1.5</td>\n",
       "      <td>0.2</td>\n",
       "      <td>setosa</td>\n",
       "    </tr>\n",
       "    <tr>\n",
       "      <th>8</th>\n",
       "      <td>4.4</td>\n",
       "      <td>2.9</td>\n",
       "      <td>1.4</td>\n",
       "      <td>0.2</td>\n",
       "      <td>setosa</td>\n",
       "    </tr>\n",
       "    <tr>\n",
       "      <th>...</th>\n",
       "      <td>...</td>\n",
       "      <td>...</td>\n",
       "      <td>...</td>\n",
       "      <td>...</td>\n",
       "      <td>...</td>\n",
       "    </tr>\n",
       "    <tr>\n",
       "      <th>145</th>\n",
       "      <td>6.7</td>\n",
       "      <td>3.0</td>\n",
       "      <td>5.2</td>\n",
       "      <td>2.3</td>\n",
       "      <td>virginica</td>\n",
       "    </tr>\n",
       "    <tr>\n",
       "      <th>146</th>\n",
       "      <td>6.3</td>\n",
       "      <td>2.5</td>\n",
       "      <td>5.0</td>\n",
       "      <td>1.9</td>\n",
       "      <td>virginica</td>\n",
       "    </tr>\n",
       "    <tr>\n",
       "      <th>147</th>\n",
       "      <td>6.5</td>\n",
       "      <td>3.0</td>\n",
       "      <td>5.2</td>\n",
       "      <td>2.0</td>\n",
       "      <td>virginica</td>\n",
       "    </tr>\n",
       "    <tr>\n",
       "      <th>148</th>\n",
       "      <td>6.2</td>\n",
       "      <td>3.4</td>\n",
       "      <td>5.4</td>\n",
       "      <td>2.3</td>\n",
       "      <td>virginica</td>\n",
       "    </tr>\n",
       "    <tr>\n",
       "      <th>149</th>\n",
       "      <td>5.9</td>\n",
       "      <td>3.0</td>\n",
       "      <td>5.1</td>\n",
       "      <td>1.8</td>\n",
       "      <td>virginica</td>\n",
       "    </tr>\n",
       "  </tbody>\n",
       "</table>\n",
       "<p>146 rows × 5 columns</p>\n",
       "</div>\n",
       "      <button class=\"colab-df-convert\" onclick=\"convertToInteractive('df-b4a0c228-4c1a-48a8-ba95-904589cdded1')\"\n",
       "              title=\"Convert this dataframe to an interactive table.\"\n",
       "              style=\"display:none;\">\n",
       "        \n",
       "  <svg xmlns=\"http://www.w3.org/2000/svg\" height=\"24px\"viewBox=\"0 0 24 24\"\n",
       "       width=\"24px\">\n",
       "    <path d=\"M0 0h24v24H0V0z\" fill=\"none\"/>\n",
       "    <path d=\"M18.56 5.44l.94 2.06.94-2.06 2.06-.94-2.06-.94-.94-2.06-.94 2.06-2.06.94zm-11 1L8.5 8.5l.94-2.06 2.06-.94-2.06-.94L8.5 2.5l-.94 2.06-2.06.94zm10 10l.94 2.06.94-2.06 2.06-.94-2.06-.94-.94-2.06-.94 2.06-2.06.94z\"/><path d=\"M17.41 7.96l-1.37-1.37c-.4-.4-.92-.59-1.43-.59-.52 0-1.04.2-1.43.59L10.3 9.45l-7.72 7.72c-.78.78-.78 2.05 0 2.83L4 21.41c.39.39.9.59 1.41.59.51 0 1.02-.2 1.41-.59l7.78-7.78 2.81-2.81c.8-.78.8-2.07 0-2.86zM5.41 20L4 18.59l7.72-7.72 1.47 1.35L5.41 20z\"/>\n",
       "  </svg>\n",
       "      </button>\n",
       "      \n",
       "  <style>\n",
       "    .colab-df-container {\n",
       "      display:flex;\n",
       "      flex-wrap:wrap;\n",
       "      gap: 12px;\n",
       "    }\n",
       "\n",
       "    .colab-df-convert {\n",
       "      background-color: #E8F0FE;\n",
       "      border: none;\n",
       "      border-radius: 50%;\n",
       "      cursor: pointer;\n",
       "      display: none;\n",
       "      fill: #1967D2;\n",
       "      height: 32px;\n",
       "      padding: 0 0 0 0;\n",
       "      width: 32px;\n",
       "    }\n",
       "\n",
       "    .colab-df-convert:hover {\n",
       "      background-color: #E2EBFA;\n",
       "      box-shadow: 0px 1px 2px rgba(60, 64, 67, 0.3), 0px 1px 3px 1px rgba(60, 64, 67, 0.15);\n",
       "      fill: #174EA6;\n",
       "    }\n",
       "\n",
       "    [theme=dark] .colab-df-convert {\n",
       "      background-color: #3B4455;\n",
       "      fill: #D2E3FC;\n",
       "    }\n",
       "\n",
       "    [theme=dark] .colab-df-convert:hover {\n",
       "      background-color: #434B5C;\n",
       "      box-shadow: 0px 1px 3px 1px rgba(0, 0, 0, 0.15);\n",
       "      filter: drop-shadow(0px 1px 2px rgba(0, 0, 0, 0.3));\n",
       "      fill: #FFFFFF;\n",
       "    }\n",
       "  </style>\n",
       "\n",
       "      <script>\n",
       "        const buttonEl =\n",
       "          document.querySelector('#df-b4a0c228-4c1a-48a8-ba95-904589cdded1 button.colab-df-convert');\n",
       "        buttonEl.style.display =\n",
       "          google.colab.kernel.accessAllowed ? 'block' : 'none';\n",
       "\n",
       "        async function convertToInteractive(key) {\n",
       "          const element = document.querySelector('#df-b4a0c228-4c1a-48a8-ba95-904589cdded1');\n",
       "          const dataTable =\n",
       "            await google.colab.kernel.invokeFunction('convertToInteractive',\n",
       "                                                     [key], {});\n",
       "          if (!dataTable) return;\n",
       "\n",
       "          const docLinkHtml = 'Like what you see? Visit the ' +\n",
       "            '<a target=\"_blank\" href=https://colab.research.google.com/notebooks/data_table.ipynb>data table notebook</a>'\n",
       "            + ' to learn more about interactive tables.';\n",
       "          element.innerHTML = '';\n",
       "          dataTable['output_type'] = 'display_data';\n",
       "          await google.colab.output.renderOutput(dataTable, element);\n",
       "          const docLink = document.createElement('div');\n",
       "          docLink.innerHTML = docLinkHtml;\n",
       "          element.appendChild(docLink);\n",
       "        }\n",
       "      </script>\n",
       "    </div>\n",
       "  </div>\n",
       "  "
      ],
      "text/plain": [
       "     sepal length (cm)  sepal width (cm)  petal length (cm)  petal width (cm)  \\\n",
       "1                  4.9               3.0                1.4               0.2   \n",
       "3                  4.6               3.1                1.5               0.2   \n",
       "5                  5.4               3.9                1.7               0.4   \n",
       "7                  5.0               3.4                1.5               0.2   \n",
       "8                  4.4               2.9                1.4               0.2   \n",
       "..                 ...               ...                ...               ...   \n",
       "145                6.7               3.0                5.2               2.3   \n",
       "146                6.3               2.5                5.0               1.9   \n",
       "147                6.5               3.0                5.2               2.0   \n",
       "148                6.2               3.4                5.4               2.3   \n",
       "149                5.9               3.0                5.1               1.8   \n",
       "\n",
       "    classification  \n",
       "1           setosa  \n",
       "3           setosa  \n",
       "5           setosa  \n",
       "7           setosa  \n",
       "8           setosa  \n",
       "..             ...  \n",
       "145      virginica  \n",
       "146      virginica  \n",
       "147      virginica  \n",
       "148      virginica  \n",
       "149      virginica  \n",
       "\n",
       "[146 rows x 5 columns]"
      ]
     },
     "execution_count": 18,
     "metadata": {},
     "output_type": "execute_result"
    }
   ],
   "source": [
    "# 1- Excluindo linhas por índices (valores absolutos)\n",
    "dates_alterado = dates.drop(dates.index[[0,2,4,6]])\n",
    "dates_alterado"
   ]
  },
  {
   "cell_type": "code",
   "execution_count": 19,
   "metadata": {
    "colab": {
     "base_uri": "https://localhost:8080/"
    },
    "executionInfo": {
     "elapsed": 75,
     "status": "ok",
     "timestamp": 1687306679385,
     "user": {
      "displayName": "Isadora Almeida Poppi Durante",
      "userId": "00823796383294443252"
     },
     "user_tz": 180
    },
    "id": "4HDN3BJ4KbG0",
    "outputId": "4c6b65a3-b93d-465c-ffeb-d174deb52597"
   },
   "outputs": [
    {
     "name": "stdout",
     "output_type": "stream",
     "text": [
      "     sepal length (cm)  sepal width (cm)  petal width (cm) classification\n",
      "1                  4.9               3.0               0.2         setosa\n",
      "3                  4.6               3.1               0.2         setosa\n",
      "5                  5.4               3.9               0.4         setosa\n",
      "7                  5.0               3.4               0.2         setosa\n",
      "8                  4.4               2.9               0.2         setosa\n",
      "..                 ...               ...               ...            ...\n",
      "145                6.7               3.0               2.3      virginica\n",
      "146                6.3               2.5               1.9      virginica\n",
      "147                6.5               3.0               2.0      virginica\n",
      "148                6.2               3.4               2.3      virginica\n",
      "149                5.9               3.0               1.8      virginica\n",
      "\n",
      "[146 rows x 4 columns]\n"
     ]
    }
   ],
   "source": [
    "#2- Excluir por nome\n",
    "dates_alterado2 = dates_alterado.drop(columns=['petal length (cm)'])\n",
    "print(dates_alterado2)"
   ]
  },
  {
   "cell_type": "markdown",
   "metadata": {
    "id": "36EHHM1mMjeH"
   },
   "source": [
    "##7 - Agrupamento de colunas\n",
    "\n",
    "1.   Agrupe as informações pela coluna classification e conte quantos valores\n",
    "2.   Agrupe as informações pela coluna petal width (cm) e conte quantos valores\n",
    "\n",
    "\n"
   ]
  },
  {
   "cell_type": "code",
   "execution_count": 20,
   "metadata": {
    "colab": {
     "base_uri": "https://localhost:8080/"
    },
    "executionInfo": {
     "elapsed": 73,
     "status": "ok",
     "timestamp": 1687306679385,
     "user": {
      "displayName": "Isadora Almeida Poppi Durante",
      "userId": "00823796383294443252"
     },
     "user_tz": 180
    },
    "id": "o--S11rWSRlH",
    "outputId": "a70e84c4-d41c-462e-b022-299f9fad7df5"
   },
   "outputs": [
    {
     "name": "stdout",
     "output_type": "stream",
     "text": [
      "setosa        50\n",
      "versicolor    50\n",
      "virginica     50\n",
      "Name: classification, dtype: int64\n"
     ]
    }
   ],
   "source": [
    "# O método value_counts()é uma função que conta o número de ocorrências de cada valor único e retorna os resultados em uma nova série dos pandas.\n",
    "\n",
    "#1-Agrupe as informações pela coluna classification e conte quantos valores\n",
    "passo_1 = dates['classification'].value_counts()\n",
    "print(passo_1)"
   ]
  },
  {
   "cell_type": "code",
   "execution_count": 21,
   "metadata": {
    "colab": {
     "base_uri": "https://localhost:8080/"
    },
    "executionInfo": {
     "elapsed": 70,
     "status": "ok",
     "timestamp": 1687306679386,
     "user": {
      "displayName": "Isadora Almeida Poppi Durante",
      "userId": "00823796383294443252"
     },
     "user_tz": 180
    },
    "id": "k1Ept5n7X8sx",
    "outputId": "224ed75c-026b-4f7d-c8b4-5958d90dfef5"
   },
   "outputs": [
    {
     "name": "stdout",
     "output_type": "stream",
     "text": [
      "     sepal length (cm)  sepal width (cm)  petal width (cm) classification  \\\n",
      "1                  4.9               3.0               0.2         setosa   \n",
      "3                  4.6               3.1               0.2         setosa   \n",
      "5                  5.4               3.9               0.4         setosa   \n",
      "7                  5.0               3.4               0.2         setosa   \n",
      "8                  4.4               2.9               0.2         setosa   \n",
      "..                 ...               ...               ...            ...   \n",
      "145                6.7               3.0               2.3      virginica   \n",
      "146                6.3               2.5               1.9      virginica   \n",
      "147                6.5               3.0               2.0      virginica   \n",
      "148                6.2               3.4               2.3      virginica   \n",
      "149                5.9               3.0               1.8      virginica   \n",
      "\n",
      "     total  \n",
      "1       50  \n",
      "3       50  \n",
      "5       50  \n",
      "7       50  \n",
      "8       50  \n",
      "..     ...  \n",
      "145     50  \n",
      "146     50  \n",
      "147     50  \n",
      "148     50  \n",
      "149     50  \n",
      "\n",
      "[146 rows x 5 columns]\n"
     ]
    }
   ],
   "source": [
    "# Atribuir contagem de valores à nova coluna \"total\"\n",
    "dates_alterado2['total'] = dates_alterado2['classification'].map(passo_1)\n",
    "\n",
    "# Exibir o DataFrame atualizado\n",
    "print(dates_alterado2)\n",
    "\n",
    "#A função map()é utilizada na coluna \"classificação\" do DataFrame para mapear os valores da contagem correspondentes a cada valor da coluna.\n",
    "#O resultado é atribuído à nova coluna \"total\" no DataFrame \"dates\"\n"
   ]
  },
  {
   "cell_type": "code",
   "execution_count": 24,
   "metadata": {
    "colab": {
     "base_uri": "https://localhost:8080/"
    },
    "executionInfo": {
     "elapsed": 517,
     "status": "ok",
     "timestamp": 1687306983165,
     "user": {
      "displayName": "Isadora Almeida Poppi Durante",
      "userId": "00823796383294443252"
     },
     "user_tz": 180
    },
    "id": "yRL-LygAOolr",
    "outputId": "69eb29f7-f965-443b-d257-560fcf0d7a46"
   },
   "outputs": [
    {
     "name": "stdout",
     "output_type": "stream",
     "text": [
      "0.2    29\n",
      "1.3    13\n",
      "1.8    12\n",
      "1.5    12\n",
      "1.4     8\n",
      "2.3     8\n",
      "1.0     7\n",
      "0.4     7\n",
      "0.3     7\n",
      "2.1     6\n",
      "2.0     6\n",
      "0.1     5\n",
      "1.2     5\n",
      "1.9     5\n",
      "1.6     4\n",
      "2.5     3\n",
      "2.2     3\n",
      "2.4     3\n",
      "1.1     3\n",
      "1.7     2\n",
      "0.6     1\n",
      "0.5     1\n",
      "Name: petal width (cm), dtype: int64\n"
     ]
    }
   ],
   "source": [
    "#2 Agrupe as informações pela coluna petal width (cm) e conte quantos valores\n",
    "\n",
    "contagem = dates['petal width (cm)'].value_counts()\n",
    "print(contagem)\n",
    "\n",
    "#O resultado é uma série  que mostra a quantidade de ocorrências de cada valor único na coluna \"largura da pétala (cm)\".\n",
    "\n"
   ]
  },
  {
   "cell_type": "markdown",
   "metadata": {
    "id": "ppC198K3McJH"
   },
   "source": [
    "##8 - Salvando e exportando o dataframe tratado\n",
    "\n",
    "Gere um csv final para o resultado obtido."
   ]
  },
  {
   "cell_type": "code",
   "execution_count": 23,
   "metadata": {
    "executionInfo": {
     "elapsed": 65,
     "status": "ok",
     "timestamp": 1687306679388,
     "user": {
      "displayName": "Isadora Almeida Poppi Durante",
      "userId": "00823796383294443252"
     },
     "user_tz": 180
    },
    "id": "22hhnfcwSSZ_"
   },
   "outputs": [],
   "source": [
    "dates.to_csv('dates.csv', sep=';', encoding='utf-8', index = False)"
   ]
  },
  {
   "cell_type": "markdown",
   "metadata": {
    "id": "c-74JBA4PJHn"
   },
   "source": [
    "## Resultado final esperado\n",
    "\n",
    "![image.png](data:image/png;base64,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)"
   ]
  }
 ],
 "metadata": {
  "colab": {
   "provenance": [
    {
     "file_id": "1KVyY1s4dBBL2Y4XgrjSYdwzaZCYcXGUP",
     "timestamp": 1686083739674
    }
   ]
  },
  "kernelspec": {
   "display_name": "Python 3",
   "name": "python3"
  },
  "language_info": {
   "name": "python"
  }
 },
 "nbformat": 4,
 "nbformat_minor": 0
}
