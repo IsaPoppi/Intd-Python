{
 "cells": [
  {
   "cell_type": "markdown",
   "metadata": {},
   "source": [
    "Aqui estão alguns exercícios para quem está iniciando os estudo em python e quer praticar:"
   ]
  },
  {
   "cell_type": "markdown",
   "metadata": {
    "id": "q_PdbvKmXjna"
   },
   "source": [
    "#Exercícios básicos"
   ]
  },
  {
   "cell_type": "markdown",
   "metadata": {
    "id": "7c5OfLSkZLGP"
   },
   "source": [
    "Faça um programa que calcule a média de 3 números"
   ]
  },
  {
   "cell_type": "code",
   "execution_count": null,
   "metadata": {
    "colab": {
     "base_uri": "https://localhost:8080/"
    },
    "executionInfo": {
     "elapsed": 4,
     "status": "ok",
     "timestamp": 1680694477550,
     "user": {
      "displayName": "Francisco Molina",
      "userId": "18166545704372214728"
     },
     "user_tz": 180
    },
    "id": "GXLorVqQZLbn",
    "outputId": "0ce035b4-0e7a-49d8-b9a9-7d010220d772"
   },
   "outputs": [
    {
     "name": "stdout",
     "output_type": "stream",
     "text": [
      "5.666666666666667\n"
     ]
    }
   ],
   "source": [
    "a = int(input(\"Informe o primeiro valor: \"))\n",
    "b = int(input(\"Informe o segundo valor: \"))\n",
    "c = int(input(\"Informe o terceiro valor: \"))\n",
    "\n",
    "media = (a+b+c)/3\n",
    "print(media)"
   ]
  },
  {
   "cell_type": "markdown",
   "metadata": {
    "id": "z7wAPsVnZL5P"
   },
   "source": [
    "Faça um Programa que converta metros para centímetros."
   ]
  },
  {
   "cell_type": "code",
   "execution_count": null,
   "metadata": {
    "colab": {
     "base_uri": "https://localhost:8080/"
    },
    "executionInfo": {
     "elapsed": 226,
     "status": "ok",
     "timestamp": 1680695430631,
     "user": {
      "displayName": "Francisco Molina",
      "userId": "18166545704372214728"
     },
     "user_tz": 180
    },
    "id": "j9gXfPCxZMOP",
    "outputId": "6c554ca4-8748-4978-dfc9-d54f698bec66"
   },
   "outputs": [
    {
     "name": "stdout",
     "output_type": "stream",
     "text": [
      "500\n"
     ]
    }
   ],
   "source": [
    "metros = 5\n",
    "centimetros = metros * 100\n",
    "print(centimetros)"
   ]
  },
  {
   "cell_type": "code",
   "execution_count": null,
   "metadata": {
    "colab": {
     "base_uri": "https://localhost:8080/"
    },
    "executionInfo": {
     "elapsed": 3455,
     "status": "ok",
     "timestamp": 1680695965803,
     "user": {
      "displayName": "Francisco Molina",
      "userId": "18166545704372214728"
     },
     "user_tz": 180
    },
    "id": "9CqYKA7jQOgf",
    "outputId": "389df584-5e1a-462e-b82c-db266d184528"
   },
   "outputs": [
    {
     "name": "stdout",
     "output_type": "stream",
     "text": [
      "Informe o valor em metros:6\n",
      "600\n"
     ]
    }
   ],
   "source": [
    "def converte (metros):\n",
    "  centimetros = metros * 100\n",
    "  return centimetros\n",
    "\n",
    "metros = int(input(\"Informe o valor em metros:\"))\n",
    "print(converte(metros))"
   ]
  },
  {
   "cell_type": "code",
   "execution_count": null,
   "metadata": {
    "id": "Iin9dlU6joPO"
   },
   "outputs": [],
   "source": [
    "centimetros = float(input(\"Informe o valor em centimetros: \"))\n",
    "metros = centimetros / 100\n",
    "print(metros)"
   ]
  },
  {
   "cell_type": "markdown",
   "metadata": {
    "id": "vd6-vv4WZMg8"
   },
   "source": [
    "Faça um Programa que peça 2 números inteiros e um número real. Calcule e mostre:\n",
    "o produto do dobro do primeiro com metade do segundo .\n",
    "a soma do triplo do primeiro com o terceiro.\n",
    "o terceiro elevado ao cubo."
   ]
  },
  {
   "cell_type": "code",
   "execution_count": null,
   "metadata": {
    "id": "uE6cVEaxZMrw"
   },
   "outputs": [],
   "source": [
    "def dobro(numero):\n",
    "  return numero * 2\n",
    "\n",
    "def metade(numero):\n",
    "  return numero/2\n",
    "\n",
    "num1 = int(input(\"Digite o primeiro número inteiro: \"))\n",
    "num2 = int(input(\"Digite o segundo número inteiro: \"))\n",
    "num3 = float(input(\"Digite um número real: \"))\n",
    "\n",
    "resultado1 = dobro(num1) * metade(num2)\n",
    "resultado2 = (3 * num1) + num3\n",
    "resultado3 = num3 ** 3\n",
    "\n",
    "print(\"O produto do dobro do primeiro com metade do segundo é:\", resultado1)\n",
    "print(\"A soma do triplo do primeiro com o terceiro é:\", resultado2)\n",
    "print(\"O terceiro elevado ao cubo é:\", resultado3)"
   ]
  },
  {
   "cell_type": "code",
   "execution_count": null,
   "metadata": {
    "id": "uQNh0WMfZlMw"
   },
   "outputs": [],
   "source": [
    "num1 = int(input(\"Digite o primeiro número inteiro: \"))\n",
    "num2 = int(input(\"Digite o segundo número inteiro: \"))\n",
    "num3 = float(input(\"Digite um número real: \"))\n",
    "\n",
    "d_num1 = num1 * 2\n",
    "m_num2 = num2 / 2\n",
    "\n",
    "resultado1 = d_num1 * m_num2\n",
    "resultado2 = (num1 * 3) + num3\n",
    "resultado3 = num3 * num3 * num3\n",
    "\n",
    "print(\"O produto do dobro do primeiro com metade do segundo é:\", resultado1)\n",
    "print(\"A soma do triplo do primeiro com o terceiro é:\", resultado2)\n",
    "print(\"O terceiro elevado ao cubo é:\", resultado3)"
   ]
  },
  {
   "cell_type": "markdown",
   "metadata": {
    "id": "viw6O8kvXx8-"
   },
   "source": [
    "Faça um programa que peça a temperatura em graus Celsius, transforme e mostre em graus Fahrenheit."
   ]
  },
  {
   "cell_type": "code",
   "execution_count": null,
   "metadata": {
    "colab": {
     "base_uri": "https://localhost:8080/"
    },
    "executionInfo": {
     "elapsed": 2492,
     "status": "ok",
     "timestamp": 1680653026666,
     "user": {
      "displayName": "Francisco Molina",
      "userId": "18166545704372214728"
     },
     "user_tz": 180
    },
    "id": "9NRCGdkXV_KR",
    "outputId": "e1254629-e52d-4e65-8313-25c5c3975c5c"
   },
   "outputs": [
    {
     "name": "stdout",
     "output_type": "stream",
     "text": [
      "Digite a temperatura em graus Celsius: 5\n",
      "A temperatura em graus Fahrenheit é: 41.0\n"
     ]
    }
   ],
   "source": [
    "celsius = float(input(\"Digite a temperatura em graus Celsius: \"))\n",
    "fahrenheit = (celsius * 9/5) + 32\n",
    "print(\"A temperatura em graus Fahrenheit é:\", fahrenheit)"
   ]
  },
  {
   "cell_type": "markdown",
   "metadata": {
    "id": "bO9q9VsUYPPn"
   },
   "source": [
    "Tendo como dados de entrada a altura de uma pessoa, construa um algoritmo que calcule seu peso ideal, usando a seguinte fórmula: (72.7*altura) - 58"
   ]
  },
  {
   "cell_type": "code",
   "execution_count": null,
   "metadata": {
    "id": "P3Ox08vRYtXv"
   },
   "outputs": [],
   "source": [
    "altura = float(input(\"Digite sua altura (em metros): \"))\n",
    "peso_ideal = (72.7 * altura) - 58\n",
    "print(\"Seu peso ideal é:\", peso_ideal, \"kg\")"
   ]
  },
  {
   "cell_type": "markdown",
   "metadata": {
    "id": "Iac3Lrt_Yttf"
   },
   "source": [
    "Faça um Programa que pergunte quanto você ganha por hora e o número de horas trabalhadas no mês. Calcule e mostre o total do seu salário no referido mês, sabendo-se que são descontados 11% para o Imposto de Renda, 8% para o INSS e 5% para o sindicato, faça um programa que nos dê:\n",
    "salário bruto.\n",
    "quanto pagou ao INSS.\n",
    "quanto pagou ao sindicato.\n",
    "o salário líquido.\n",
    "calcule os descontos e o salário líquido"
   ]
  },
  {
   "cell_type": "code",
   "execution_count": null,
   "metadata": {
    "id": "e3xF03C4YvhA"
   },
   "outputs": [],
   "source": [
    "valor_hora = float(input(\"Digite o valor que você ganha por hora: \"))\n",
    "horas_trabalhadas = float(input(\"Digite o número de horas trabalhadas no mês: \"))\n",
    "\n",
    "salario_bruto = valor_hora * horas_trabalhadas\n",
    "imposto_renda = 0.11 * salario_bruto\n",
    "inss = 0.08 * salario_bruto\n",
    "sindicato = 0.05 * salario_bruto\n",
    "salario_liquido = salario_bruto - imposto_renda - inss - sindicato\n",
    "\n",
    "print(\"Salário Bruto: R$\", salario_bruto)\n",
    "print(\"Imposto de Renda (11%): R$\", imposto_renda)\n",
    "print(\"INSS (8%): R$\", inss)\n",
    "print(\"Sindicato (5%): R$\", sindicato)\n",
    "print(\"Salário Líquido: R$\", salario_liquido)"
   ]
  },
  {
   "cell_type": "markdown",
   "metadata": {
    "id": "uZA28Ya4ZI2n"
   },
   "source": [
    "Tendo como dado de entrada a altura (h) de uma pessoa, construa um algoritmo que calcule seu peso ideal, utilizando as seguintes fórmulas:\n",
    "Para homens: (72.7*h) - 58\n",
    "Para mulheres: (62.1*h) - 44.7"
   ]
  },
  {
   "cell_type": "code",
   "execution_count": null,
   "metadata": {
    "id": "r8F2Ly9PZRtz"
   },
   "outputs": [],
   "source": [
    "altura = float(input(\"Digite sua altura (em metros): \"))\n",
    "genero = input(\"Digite seu gênero (M para masculino ou F para feminino): \")\n",
    "\n",
    "if genero == \"M\":\n",
    "    peso_ideal = (72.7 * altura) - 58\n",
    "    print(\"Seu peso ideal é:\", peso_ideal, \"kg\")\n",
    "elif genero == \"F\":\n",
    "    peso_ideal = (62.1 * altura) - 44.7\n",
    "    print(\"Seu peso ideal é:\", peso_ideal, \"kg\")\n",
    "else:\n",
    "    print(\"Gênero inválido. Digite M para masculino ou F para feminino.\")"
   ]
  },
  {
   "cell_type": "markdown",
   "metadata": {
    "id": "y9Vto9AmZR6x"
   },
   "source": [
    "Faça um programa que leia o salário de um funcionário e exiba o seu aumento de acordo com a tabela a seguir: Salário até 1.000,00 reais: aumento de 20%; Salário até 2.000,00 reais: aumento de 15%; Salário até 3.000,00 reais: aumento de 10%; Salário acima de 3.000,00 reais: aumento de 5%"
   ]
  },
  {
   "cell_type": "code",
   "execution_count": null,
   "metadata": {
    "id": "-7M3loXoZSwY"
   },
   "outputs": [],
   "source": [
    "salario = float(input(\"Digite o salário do funcionário: \"))\n",
    "\n",
    "if salario <= 1000:\n",
    "    novo_salario = salario * 1.2\n",
    "    aumento = novo_salario - salario\n",
    "    print(\"O novo salário é:\", novo_salario)\n",
    "    print(\"O aumento foi de:\", aumento)\n",
    "elif salario <= 2000:\n",
    "    novo_salario = salario * 1.15\n",
    "    aumento = novo_salario - salario\n",
    "    print(\"O novo salário é:\", novo_salario)\n",
    "    print(\"O aumento foi de:\", aumento)\n",
    "elif salario <= 3000:\n",
    "    novo_salario = salario * 1.1\n",
    "    aumento = novo_salario - salario\n",
    "    print(\"O novo salário é:\", novo_salario)\n",
    "    print(\"O aumento foi de:\", aumento)\n",
    "else:\n",
    "    novo_salario = salario * 1.05\n",
    "    aumento = novo_salario"
   ]
  },
  {
   "cell_type": "markdown",
   "metadata": {
    "id": "380ltRflbZr_"
   },
   "source": [
    "# Exercícios de repetição"
   ]
  },
  {
   "cell_type": "markdown",
   "metadata": {
    "id": "_QtXc5bEwtTX"
   },
   "source": []
  },
  {
   "cell_type": "code",
   "execution_count": null,
   "metadata": {
    "colab": {
     "base_uri": "https://localhost:8080/"
    },
    "executionInfo": {
     "elapsed": 294,
     "status": "ok",
     "timestamp": 1681259736459,
     "user": {
      "displayName": "Francisco Molina",
      "userId": "18166545704372214728"
     },
     "user_tz": 180
    },
    "id": "C6MuC_QAnVLy",
    "outputId": "a3ef859b-635f-4f01-ea4f-5ee1468eceba"
   },
   "outputs": [
    {
     "name": "stdout",
     "output_type": "stream",
     "text": [
      "10\n",
      "20\n",
      "30\n",
      "40\n"
     ]
    }
   ],
   "source": [
    "numeros = [10, 20, 30, 40, 504, 60, 701, 805, 9, 100]\n",
    "#print(numeros[3])\n",
    "\n",
    "# comando para retorna o tamanho da lista\n",
    "#print(len(numeros))\n",
    "\n",
    "#comando para devolver o maior valor\n",
    "#print(max(numeros))\n",
    "\n",
    "#comando para devolver o menor valor\n",
    "#print(min(numeros))\n",
    "\n",
    "#comando de repetição para percorrer uma lista\n",
    "numeros = [10, 20, 30, 40]\n",
    "i = 0\n",
    "for i in range(len(numeros)):\n",
    "  print(numeros[i])"
   ]
  },
  {
   "cell_type": "markdown",
   "metadata": {
    "id": "HkvILyeNbd0R"
   },
   "source": [
    "Faça um programa que some todos os valores da lista abaixo"
   ]
  },
  {
   "cell_type": "code",
   "execution_count": null,
   "metadata": {
    "id": "XAQJHlMmbc0W"
   },
   "outputs": [],
   "source": [
    "numeros = [1, 2, 3, 4, 5, 6, 7, 8, 9, 10]\n",
    "resultado = 0\n",
    "for i in range(len(numeros)):\n",
    "  resultado += numeros[i]\n",
    "print(resultado)"
   ]
  },
  {
   "cell_type": "code",
   "execution_count": 16,
   "metadata": {
    "colab": {
     "base_uri": "https://localhost:8080/"
    },
    "executionInfo": {
     "elapsed": 3,
     "status": "ok",
     "timestamp": 1681906792633,
     "user": {
      "displayName": "Francisco Molina",
      "userId": "18166545704372214728"
     },
     "user_tz": 180
    },
    "id": "XJ0piFfynS9l",
    "outputId": "751419d8-79dd-4abd-d06b-44ee0d5882b8"
   },
   "outputs": [
    {
     "name": "stdout",
     "output_type": "stream",
     "text": [
      "5 11 12 10 30 40 50 80 100 12 \n"
     ]
    }
   ],
   "source": [
    "n = [5, 11, 12, 10, 30, 40, 50, 80, 100, 12]\n",
    "texto = \"\"\n",
    "for i in range(len(n)) :\n",
    "  texto += str(n[i]) + \" \"\n",
    "\n",
    "print(texto)"
   ]
  },
  {
   "cell_type": "code",
   "execution_count": 27,
   "metadata": {
    "colab": {
     "base_uri": "https://localhost:8080/"
    },
    "executionInfo": {
     "elapsed": 317,
     "status": "ok",
     "timestamp": 1681908008962,
     "user": {
      "displayName": "Francisco Molina",
      "userId": "18166545704372214728"
     },
     "user_tz": 180
    },
    "id": "5NzSrR39dZIP",
    "outputId": "06216855-1f9c-444f-8cff-289c2383a69d"
   },
   "outputs": [
    {
     "name": "stdout",
     "output_type": "stream",
     "text": [
      "5\n",
      "11\n",
      "12\n"
     ]
    }
   ],
   "source": [
    "n = [5, 11, 12]\n",
    "i = 0\n",
    "while i < len(n):\n",
    "  print(n[i])\n",
    "  i += 1\n"
   ]
  },
  {
   "cell_type": "code",
   "execution_count": 30,
   "metadata": {
    "colab": {
     "base_uri": "https://localhost:8080/"
    },
    "executionInfo": {
     "elapsed": 2,
     "status": "ok",
     "timestamp": 1681910104869,
     "user": {
      "displayName": "Francisco Molina",
      "userId": "18166545704372214728"
     },
     "user_tz": 180
    },
    "id": "tuZh8V5nnWSm",
    "outputId": "dd4a5522-832d-46f1-c6c8-80397d67cfe6"
   },
   "outputs": [
    {
     "name": "stdout",
     "output_type": "stream",
     "text": [
      "16\n"
     ]
    }
   ],
   "source": [
    "a = 15\n",
    "b = 8\n",
    "c = 16\n",
    "\n",
    "if a > b and a > c:\n",
    "  print(a)\n",
    "elif b > a and b > c:\n",
    "  print(b)\n",
    "else:\n",
    "  print(c)"
   ]
  },
  {
   "cell_type": "markdown",
   "metadata": {
    "id": "A18aq9N-bfYN"
   },
   "source": [
    "Faça um programa que, dado um conjunto de N números, determine o menor valor, o maior valor e a soma dos valores (Use as funções min, max e sum)."
   ]
  },
  {
   "cell_type": "code",
   "execution_count": null,
   "metadata": {
    "id": "2CAT3tKZbfia"
   },
   "outputs": [],
   "source": [
    "# Pede ao usuário para informar a quantidade de números\n",
    "n = int(input(\"Quantos números deseja informar? \"))\n",
    "\n",
    "# Inicializa a lista com o primeiro número informado pelo usuário\n",
    "numeros = [float(input(\"Informe um número: \"))]\n",
    "\n",
    "# Pede ao usuário para informar os demais números\n",
    "for i in range(n-1):\n",
    "    numeros.append(float(input(\"Informe outro número: \")))\n",
    "\n",
    "# Determina o menor, o maior valor e a soma dos valores\n",
    "menor = min(numeros)\n",
    "maior = max(numeros)\n",
    "soma = sum(numeros)\n",
    "\n",
    "# Exibe os resultados\n",
    "print(\"Menor valor: %.2f\" % menor)\n",
    "print(\"Maior valor: %.2f\" % maior)\n",
    "print(\"Soma dos valores: %.2f\" % soma)"
   ]
  },
  {
   "cell_type": "markdown",
   "metadata": {
    "id": "lIajSm5BbgIA"
   },
   "source": [
    "#Exercícios de funções"
   ]
  },
  {
   "cell_type": "markdown",
   "metadata": {
    "id": "sUwTiMFBbkL_"
   },
   "source": [
    "Crie uma função que receba dois números como parâmetros e retorne o menor valor entre eles."
   ]
  },
  {
   "cell_type": "code",
   "execution_count": null,
   "metadata": {
    "id": "1o1qY6thbkdu"
   },
   "outputs": [],
   "source": [
    "def menor_valor(num1, num2):\n",
    "    if num1 < num2:\n",
    "        return num1\n",
    "    else:\n",
    "        return num2\n",
    "menor_valor()"
   ]
  },
  {
   "cell_type": "markdown",
   "metadata": {
    "id": "gt4BuDcAbkrR"
   },
   "source": [
    "Crie uma função que receba um número como parâmetro e verifique se é par ou ímpar. A função deve retornar \"par\" se o número for par e \"ímpar\" se o número for ímpar."
   ]
  },
  {
   "cell_type": "code",
   "execution_count": null,
   "metadata": {
    "id": "mxGlvnEubk1p"
   },
   "outputs": [],
   "source": [
    "def par_ou_impar(num):\n",
    "    if num % 2 == 0:\n",
    "        return \"par\"\n",
    "    else:\n",
    "        return \"ímpar\"\n",
    "par_ou_impar()"
   ]
  },
  {
   "cell_type": "markdown",
   "metadata": {
    "id": "xHSatSBxbk-q"
   },
   "source": [
    "Crie uma função que receba uma lista de números como parâmetro e retorne a média desses números."
   ]
  },
  {
   "cell_type": "code",
   "execution_count": null,
   "metadata": {
    "id": "C-v888lGblH4"
   },
   "outputs": [],
   "source": [
    "def media_numeros(lista):\n",
    "    soma = 0\n",
    "    for numero in lista:\n",
    "        soma += numero\n",
    "    media = soma / len(lista)\n",
    "    return media\n",
    "media_numeros()"
   ]
  },
  {
   "cell_type": "markdown",
   "metadata": {
    "id": "iMa_oYOkb5Jv"
   },
   "source": [
    "# Exercícios de listas"
   ]
  },
  {
   "cell_type": "markdown",
   "metadata": {
    "id": "We727OAGcALg"
   },
   "source": [
    "Crie uma lista com os números de 1 a 10 e exiba apenas os números pares."
   ]
  },
  {
   "cell_type": "code",
   "execution_count": null,
   "metadata": {
    "id": "CSoK29A7cAcC"
   },
   "outputs": [],
   "source": [
    "numeros = [1, 2, 3, 4, 5, 6, 7, 8, 9, 10]\n",
    "pares = []\n",
    "for numero in numeros:\n",
    "    if numero % 2 == 0:\n",
    "        pares.append(numero)\n",
    "print(pares)"
   ]
  },
  {
   "cell_type": "markdown",
   "metadata": {
    "id": "8_WAaWo9cA7s"
   },
   "source": [
    "Faça o exercicio acima usando função"
   ]
  },
  {
   "cell_type": "code",
   "execution_count": null,
   "metadata": {
    "colab": {
     "base_uri": "https://localhost:8080/"
    },
    "executionInfo": {
     "elapsed": 345,
     "status": "ok",
     "timestamp": 1680615454423,
     "user": {
      "displayName": "Francisco Molina",
      "userId": "18166545704372214728"
     },
     "user_tz": 180
    },
    "id": "WvFz7D30cBF3",
    "outputId": "fc89eb40-7afe-4fdb-8256-58d3c3f5f0b1"
   },
   "outputs": [
    {
     "name": "stdout",
     "output_type": "stream",
     "text": [
      "[2, 4, 6, 8, 10]\n"
     ]
    }
   ],
   "source": [
    "pares = []\n",
    "def par(numero):\n",
    "  if numero % 2 == 0:\n",
    "    pares.append(numero)\n",
    "  return pares\n",
    "\n",
    "numeros = [1, 2, 3, 4, 5, 6, 7, 8, 9, 10]\n",
    "for numero in numeros:\n",
    "  resultado = par(numero)\n",
    "  \n",
    "print(pares)\n"
   ]
  },
  {
   "cell_type": "markdown",
   "metadata": {
    "id": "Fu6w81vVcAnn"
   },
   "source": [
    "Crie uma lista com os números de 1 a 10 e substitua os valores pares pelo seu dobro. Em seguida, exiba o resultado."
   ]
  },
  {
   "cell_type": "code",
   "execution_count": null,
   "metadata": {
    "id": "DHHjBkGDcAzK"
   },
   "outputs": [],
   "source": [
    "numeros = [1, 2, 3, 4, 5, 6, 7, 8, 9, 10]\n",
    "for i in range(len(numeros)):\n",
    "    if numeros[i] % 2 == 0:\n",
    "        numeros[i] = numeros[i] * 2\n",
    "print(numeros)"
   ]
  },
  {
   "cell_type": "markdown",
   "metadata": {
    "id": "j7_R8F37cBgi"
   },
   "source": [
    "# Exercícios de dicionários"
   ]
  },
  {
   "cell_type": "markdown",
   "metadata": {
    "id": "913hTanecH3o"
   },
   "source": [
    "Crie um dicionário com informações de uma pessoa, contendo as chaves \"nome\", \"idade\" e \"cidade\". Em seguida, exiba o dicionário completo."
   ]
  },
  {
   "cell_type": "code",
   "execution_count": null,
   "metadata": {
    "id": "IYkLAYy9cIGX"
   },
   "outputs": [],
   "source": [
    "pessoa = {\"nome\": \"João\", \"idade\": 30, \"cidade\": \"São Paulo\"}\n",
    "print(pessoa)"
   ]
  },
  {
   "cell_type": "markdown",
   "metadata": {
    "id": "ykmvOwkRcIPp"
   },
   "source": [
    "Crie um dicionário com as notas de um aluno, contendo as chaves \"prova1\", \"prova2\" e \"trabalho\". Em seguida, calcule a média do aluno e exiba o resultado."
   ]
  },
  {
   "cell_type": "code",
   "execution_count": null,
   "metadata": {
    "id": "nE4YMCJrcIch"
   },
   "outputs": [],
   "source": [
    "notas = {\"prova1\": 8.5, \"prova2\": 7.0, \"trabalho\": 9.0}\n",
    "media = (notas[\"prova1\"] + notas[\"prova2\"] + notas[\"trabalho\"]) / 3\n",
    "print(\"Média: %.2f\" % media)"
   ]
  },
  {
   "cell_type": "markdown",
   "metadata": {
    "id": "1c18LU25cInw"
   },
   "source": [
    "Crie um dicionário com informações de uma pessoa, contendo as chaves \"nome\", \"idade\" e \"cidade\". Em seguida, altere o valor da chave \"idade\" para 35 e exiba o dicionário completo."
   ]
  },
  {
   "cell_type": "code",
   "execution_count": null,
   "metadata": {
    "id": "s45j6uqFcIzH"
   },
   "outputs": [],
   "source": [
    "pessoa = {\"nome\": \"João\", \"idade\": 30, \"cidade\": \"São Paulo\"}\n",
    "pessoa[\"idade\"] = 35\n",
    "print(pessoa)"
   ]
  },
  {
   "cell_type": "markdown",
   "metadata": {
    "id": "D1FynaQpf7TV"
   },
   "source": [
    "Crie um dicionário com as notas de vários alunos, contendo as chaves \"prova1\", \"prova2\" e \"trabalho\". Em seguida, calcule a média de cada aluno e exiba o resultado."
   ]
  },
  {
   "cell_type": "code",
   "execution_count": null,
   "metadata": {
    "id": "VI7QE6TFf7jE"
   },
   "outputs": [],
   "source": [
    "alunos = {\n",
    "    \"aluno1\": {\"prova1\": 8.5, \"prova2\": 7.0, \"trabalho\": 9.0},\n",
    "    \"aluno2\": {\"prova1\": 7.0, \"prova2\": 6.5, \"trabalho\": 8.5},\n",
    "    \"aluno3\": {\"prova1\": 9.0, \"prova2\": 8.5, \"trabalho\": 7.0}\n",
    "}\n",
    "\n",
    "for aluno, notas in alunos.items():\n",
    "    media = (notas[\"prova1\"] + notas[\"prova2\"] + notas[\"trabalho\"]) / 3\n",
    "    print(\"%s - Média: %.2f\" % (aluno, media))"
   ]
  }
 ],
 "metadata": {
  "colab": {
   "authorship_tag": "ABX9TyOKFpJw6SAnycCTgIr3IEad",
   "provenance": []
  },
  "kernelspec": {
   "display_name": "Python 3",
   "name": "python3"
  },
  "language_info": {
   "name": "python"
  }
 },
 "nbformat": 4,
 "nbformat_minor": 0
}
